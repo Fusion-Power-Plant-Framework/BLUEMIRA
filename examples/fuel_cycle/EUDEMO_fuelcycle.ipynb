{
  "cells": [
    {
      "cell_type": "code",
      "metadata": {},
      "source": [
        "from bluemira.base.parameter import ParameterFrame\n",
        "from bluemira.display.auto_config import plot_defaults\n",
        "from bluemira.fuel_cycle.analysis import FuelCycleAnalysis\n",
        "from bluemira.fuel_cycle.cycle import EUDEMOFuelCycleModel\n",
        "from bluemira.fuel_cycle.lifecycle import LifeCycle\n",
        "from bluemira.fuel_cycle.timeline_tools import (\n",
        "    GompertzLearningStrategy,\n",
        "    LogNormalAvailabilityStrategy,\n",
        ")\n",
        "from bluemira.fuel_cycle.tools import convert_flux_to_flow\n",
        "from bluemira.plasma_physics.reactions import n_DD_reactions, n_DT_reactions\n",
        "from bluemira.utilities.tools import set_random_seed\n",
        "\n",
        "plot_defaults()"
      ],
      "outputs": [],
      "execution_count": null
    },
    {
      "cell_type": "markdown",
      "metadata": {},
      "source": [
        "\n",
        "First let's set up a configuration with some values (a la EU-DEMO 2015)"
      ]
    },
    {
      "cell_type": "code",
      "metadata": {},
      "source": [
        "p_fus_DT = 2037\n",
        "p_fus_DD = 3\n",
        "\n",
        "baseline_not_critical = True\n",
        "HCPB_not_WCLL = True\n",
        "high_not_low = False\n",
        "\n",
        "if baseline_not_critical:\n",
        "    A_global = 0.3\n",
        "    TBR = 1.05\n",
        "    f_dir = 0.8\n",
        "else:\n",
        "    A_global = 0.2\n",
        "    TBR = 1.02\n",
        "    f_dir = 0.6\n",
        "\n",
        "# fmt:off\n",
        "lifecycle_config = ParameterFrame([\n",
        "    [\"A_global\", \"Global load factor\", A_global, \"dimensionless\", \"Not always used\", \"Input\"],\n",
        "    [\"I_p\", \"Plasma current\", 19.2, \"MA\", None, \"Input\"],\n",
        "    [\"bmd\", \"Blanket maintenance duration\", 150, \"days\", \"Full replacement intervention duration\", \"Input\"],\n",
        "    [\"dmd\", \"Divertor maintenance duration\", 90, \"days\", \"Full replacement intervention duration\", \"Input\"],\n",
        "    [\"t_pulse\", \"Pulse length\", 7200, \"s\", \"Includes ramp-up and ramp-down time\", \"Input\"],\n",
        "    [\"t_cs_recharge\", \"CS recharge time\", 600, \"s\", \"Presently assumed to dictate minimum dwell period\", \"Input\"],\n",
        "    [\"t_pumpdown\", \"Pump down duration of the vessel in between pulses\", 599, \"s\",\n",
        "     \"Presently assumed to take less time than the CS recharge\", \"Input\"],\n",
        "    [\"s_ramp_up\", \"Plasma current ramp-up rate\", 0.1, \"MA/s\", None, \"R. Wenninger\"],\n",
        "    [\"s_ramp_down\", \"Plasma current ramp-down rate\", 0.1, \"MA/s\", None, \"R. Wenninger\"],\n",
        "    [\"n_DT_reactions\", \"D-T fusion reaction rate\", n_DT_reactions(p_fus_DT), \"1/s\", \"At full power\", \"Input\"],\n",
        "    [\"n_DD_reactions\", \"D-D fusion reaction rate\", n_DD_reactions(p_fus_DD), \"1/s\", \"At full power\", \"Input\"],\n",
        "    [\"blk_1_dpa\", \"Starter blanket life limit (EUROfer)\", 20, \"dpa\",\n",
        "     \"https://iopscience.iop.org/article/10.1088/1741-4326/57/9/092002/pdf\", \"Input\"],\n",
        "    [\"blk_2_dpa\", \"Second blanket life limit (EUROfer)\", 50, \"dpa\",\n",
        "     \"https://iopscience.iop.org/article/10.1088/1741-4326/57/9/092002/pdf\", \"Input\"],\n",
        "    [\"div_dpa\", \"Divertor life limit (CuCrZr)\", 5, \"dpa\",\n",
        "     \"https://iopscience.iop.org/article/10.1088/1741-4326/57/9/092002/pdf\", \"Input\"],\n",
        "    [\"vv_dpa\", \"Vacuum vessel life limit (SS316-LN-IG)\", 3.25, \"dpa\", \"RCC-Mx or whatever it is called\", \"Input\"],\n",
        "    [\"tf_fluence\", \"Insulation fluence limit for ITER equivalent to 10 MGy\", 3.2e21, \"1/m^2\",\n",
        "     \"https://ieeexplore.ieee.org/document/6374236/\", \"Input\"],\n",
        "])\n",
        "# fmt:on"
      ],
      "outputs": [],
      "execution_count": null
    },
    {
      "cell_type": "markdown",
      "metadata": {},
      "source": [
        "\n",
        "Now we set a LifeCycle object in order generate some pseudo-randomised timelines.\n",
        "\n",
        "We're going to define a LearningStrategy to determine how the operational availability\n",
        "of our reactor improves over time.\n",
        "\n",
        "We're going to define an AvailabilityStrategy to determine how the durations in\n",
        "between pulses are distributed."
      ]
    },
    {
      "cell_type": "code",
      "metadata": {},
      "source": [
        "lifecycle_inputs = {}\n",
        "\n",
        "# We need to define some stragies to define the pseudo-random timelines\n",
        "\n",
        "# Let's choose a LearningStrategy such that the operational availability grows over time\n",
        "learning_strategy = GompertzLearningStrategy(\n",
        "    learn_rate=1.0, min_op_availability=0.1, max_op_availability=0.5\n",
        ")\n",
        "# Let's choose an OperationalAvailabilityStrategy to determine how to distribute outages\n",
        "availability_strategy = LogNormalAvailabilityStrategy(sigma=2.0)\n",
        "\n",
        "lifecycle = LifeCycle(\n",
        "    lifecycle_config, learning_strategy, availability_strategy, lifecycle_inputs\n",
        ")"
      ],
      "outputs": [],
      "execution_count": null
    },
    {
      "cell_type": "markdown",
      "metadata": {},
      "source": [
        "\n",
        "Now we use the LifeCycle to generate pseudo-randomised timelines. Let's set a\n",
        "random seed number first to get repeatable results"
      ]
    },
    {
      "cell_type": "code",
      "metadata": {},
      "source": [
        "set_random_seed(2358203947)\n",
        "\n",
        "# Let's do 50 runs Monte Carlo\n",
        "# NOTE: Make sure you have enough memory..!\n",
        "n = 50\n",
        "time_dicts = [lifecycle.make_timeline().to_dict() for _ in range(n)]"
      ],
      "outputs": [],
      "execution_count": null
    },
    {
      "cell_type": "markdown",
      "metadata": {},
      "source": [
        "\n",
        "Now let's set up a TFVSystem\n",
        "\n",
        "First we need to get some input parameters\n",
        "\n",
        "Some conversions from inventories to residence times\n",
        "(as discussed with Jonas Schwenzer, KIT)"
      ]
    },
    {
      "cell_type": "code",
      "metadata": {},
      "source": [
        "m_exhaust_systems = 0.11\n",
        "exhaust_influx = 3.28229059e-05\n",
        "t_exh = m_exhaust_systems / exhaust_influx\n",
        "\n",
        "vessel_outflux = 0.00032812\n",
        "\n",
        "if high_not_low:\n",
        "    fw_retention_flux = 1e20\n",
        "else:\n",
        "    fw_retention_flux = 1e19\n",
        "\n",
        "# Numbers taken from KDI-2 report (R. Arrendondo, F. Franza, C. Moro)\n",
        "if HCPB_not_WCLL:\n",
        "    if high_not_low:\n",
        "        eta_ivc = 0.33013436\n",
        "        max_ivc_inventory = 1.11571993\n",
        "        max_bb_inventory = 0.055  # F. Franza\n",
        "    else:\n",
        "        eta_ivc = 0.0972729\n",
        "        max_ivc_inventory = 0.37786173\n",
        "        max_bb_inventory = 0.026\n",
        "else:\n",
        "    if high_not_low:\n",
        "        eta_ivc = 0.62037084\n",
        "        max_ivc_inventory = 1.65440323\n",
        "        max_bb_inventory = 0.18519\n",
        "    else:\n",
        "        eta_ivc = 0.13090036\n",
        "        max_ivc_inventory = 0.64900007\n",
        "        max_bb_inventory = 0.06314\n",
        "\n",
        "fw_flow = convert_flux_to_flow(fw_retention_flux, 1400)\n",
        "\n",
        "\n",
        "# Normalise sqrt sink factors, because T flows are off...\n",
        "eta_norm = fw_flow / vessel_outflux\n",
        "\n",
        "\n",
        "if eta_norm >= 1:\n",
        "    eta_ivc /= eta_norm\n",
        "else:\n",
        "    eta_ivc /= eta_norm\n",
        "\n",
        "m_dir_pump = 0.024\n",
        "t_pump = m_dir_pump / vessel_outflux\n",
        "\n",
        "# It was agreed that this 1.8 kg is needed steady-state, and is used as I_TFV_min\n",
        "m_cryodistillation = 1.8\n",
        "\n",
        "# fmt: off\n",
        "tfv_config = ParameterFrame([\n",
        "    ['TBR', 'Tritium breeding ratio', TBR, 'dimensionless', None, 'Input'],\n",
        "    ['f_b', 'Burn-up fraction', 0.015, 'dimensionless', None, 'Input'],\n",
        "    ['m_gas', 'Gas puff flow rate', 50, 'Pa m^3/s', 'To maintain detachment - no chance of fusion from gas injection', 'Discussions with Chris Day and Yannick H\u00f6rstenmeyer'],\n",
        "    ['A_global', 'Load factor', A_global, 'dimensionless', None, 'Silent input'],\n",
        "    ['r_learn', 'Learning rate', 1, 'dimensionless', None, 'Silent input'],\n",
        "    ['t_pump', 'Time in DIR loop', t_pump, 's', 'Time between exit from plasma and entry into plasma through DIR loop', 'Discussions with Chris Day and Yannick H\u00f6rstenmeyer'],\n",
        "    ['t_exh', 'Time in INDIR loop', t_exh, 's', 'Time between exit from plasma and entry into TFV systems INDIR', 'Input'],\n",
        "    ['t_ters', 'Time from BB exit to TFV system', 6750, 's', None, 'Input'],\n",
        "    ['t_freeze', 'Time taken to freeze pellets', 3600 / 2, 's', None, 'Discussions with Chris Day and Yannick H\u00f6rstenmeyer'],\n",
        "    ['f_dir', 'Fraction of flow through DIR loop', f_dir, 'dimensionless', None, 'Discussions with Chris Day and Yannick H\u00f6rstenmeyer'],\n",
        "    ['t_detrit', 'Time in detritiation system', 0, 's', None, 'Input'],\n",
        "    ['f_detrit_split', 'Fraction of detritiation line tritium extracted', 0.9999, 'dimensionless', None, 'Input'],\n",
        "    ['f_exh_split', 'Fraction of exhaust tritium extracted', 0.99, 'dimensionless', None, 'Input'],\n",
        "    ['eta_fuel_pump', 'Efficiency of fuel line pump', 0.9, 'dimensionless', 'Pump which pumps down the fuelling lines', 'Input'],\n",
        "    ['eta_f', 'Fuelling efficiency', 0.5, 'dimensionless', 'Efficiency of the fuelling lines prior to entry into the VV chamber', 'Input'],\n",
        "    ['I_miv', 'Maximum in-vessel T inventory', max_ivc_inventory, 'kg', None, 'Input'],\n",
        "    ['I_tfv_min', 'Minimum TFV inventory', m_cryodistillation, 'kg', 'Without which e.g. cryodistillation columns are not effective', \"Discussions with Chris Day and Jonas Schwenzer (N.B. working assumptions only)\"],\n",
        "    ['I_tfv_max', 'Maximum TFV inventory', m_cryodistillation + 0.2, 'kg', \"Account for T sequestration inside the T plant\", \"Discussions with Chris Day and Jonas Schwenzer (N.B. working assumptions only)\"],\n",
        "    ['I_mbb', 'Maximum BB T inventory', max_bb_inventory, 'kg', None, 'Input'],\n",
        "    ['eta_iv', 'In-vessel bathtub parameter', eta_ivc, 'dimensionless', None, 'Input'],\n",
        "    ['eta_bb', 'BB bathtub parameter', 0.995, 'dimensionless', None, 'Input'],\n",
        "    ['eta_tfv', 'TFV bathtub parameter', 0.998, 'dimensionless', None, 'Input'],\n",
        "    ['f_terscwps', 'TERS and CWPS cumulated factor', 0.9999, 'dimensionless', None, 'Input']\n",
        "])\n",
        "# fmt:on"
      ],
      "outputs": [],
      "execution_count": null
    },
    {
      "cell_type": "markdown",
      "metadata": {},
      "source": [
        "\n",
        "Now we set up a fuel cycle model\n",
        "\n",
        "We can run a single model and look at a typical result"
      ]
    },
    {
      "cell_type": "code",
      "metadata": {},
      "source": [
        "model = EUDEMOFuelCycleModel(tfv_config, {})\n",
        "model.run(time_dicts[0])\n",
        "model.plot()"
      ],
      "outputs": [],
      "execution_count": null
    },
    {
      "cell_type": "markdown",
      "metadata": {},
      "source": [
        "Now, let's run the fuel cycle model for all the timelines we generated"
      ]
    },
    {
      "cell_type": "code",
      "metadata": {},
      "source": [
        "tfv_analysis = FuelCycleAnalysis(model)\n",
        "tfv_analysis.run_model(time_dicts)"
      ],
      "outputs": [],
      "execution_count": null
    },
    {
      "cell_type": "markdown",
      "metadata": {},
      "source": [
        "And the distributions for the start-up inventory and doubling time:"
      ]
    },
    {
      "cell_type": "code",
      "metadata": {},
      "source": [
        "tfv_analysis.plot()"
      ],
      "outputs": [],
      "execution_count": null
    },
    {
      "cell_type": "markdown",
      "metadata": {},
      "source": [
        "And finally, you can get the desired statistical results:"
      ]
    },
    {
      "cell_type": "code",
      "metadata": {},
      "source": [
        "m_T_start_95 = tfv_analysis.get_startup_inventory(\"95th\")\n",
        "t_d_95 = tfv_analysis.get_doubling_time(\"95th\")\n",
        "\n",
        "m_T_start_mean = tfv_analysis.get_startup_inventory(\"mean\")\n",
        "t_d_mean = tfv_analysis.get_doubling_time(\"mean\")\n",
        "\n",
        "m_T_start_max = tfv_analysis.get_startup_inventory(\"max\")\n",
        "t_d_max = tfv_analysis.get_doubling_time(\"max\")\n",
        "\n",
        "\n",
        "print(f\"The mean start-up inventory is: {m_T_start_mean:.2f} kg.\")\n",
        "print(f\"The mean doubling time is: {t_d_mean:.2f} years.\")\n",
        "print(f\"The 95th percentile start-up inventory is: {m_T_start_95:.2f} kg.\")\n",
        "print(f\"The 95th percentile doubling time is: {t_d_95:.2f} years.\")\n",
        "print(f\"The maximum start-up inventory is: {m_T_start_max:.2f} kg.\")\n",
        "print(f\"The maximum doubling time is: {t_d_max:.2f} years.\")"
      ],
      "outputs": [],
      "execution_count": null
    }
  ],
  "metadata": {
    "anaconda-cloud": {},
    "kernelspec": {
      "display_name": "Python 3",
      "language": "python",
      "name": "python3"
    },
    "language_info": {
      "codemirror_mode": {
        "name": "ipython",
        "version": 3
      },
      "file_extension": ".py",
      "mimetype": "text/x-python",
      "name": "python",
      "nbconvert_exporter": "python",
      "pygments_lexer": "ipython3",
      "version": "3.8.13"
    }
  },
  "nbformat": 4,
  "nbformat_minor": 4
}
