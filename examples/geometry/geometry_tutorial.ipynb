{
  "cells": [
    {
      "cell_type": "markdown",
      "metadata": {},
      "source": [
        "## Introduction\n",
        "\n",
        "Geometry is not plasma physics, but it isn't trivial either. Chances are most of\n",
        "your day-to-day interaction with bluemira will revolve around geometry in some form\n",
        "or another. Puns intended.\n",
        "\n",
        "There a few basic concepts you need to familiarise yourself with:\n",
        "* Basic objects: [`BluemiraWire`, `BluemiraFace`, `BluemiraShell`, `BluemiraSolid`]\n",
        "* Basic properties\n",
        "* Matryoshka structure\n",
        "* Geometry creation\n",
        "* Geometry modification\n",
        "* Geometry operations\n",
        "\n",
        "## Imports\n",
        "\n",
        "Let's start out by importing all the basic objects, and some typical tools"
      ]
    },
    {
      "cell_type": "code",
      "metadata": {},
      "source": [
        "import os\n",
        "\n",
        "import matplotlib.pyplot as plt\n",
        "import numpy as np\n",
        "\n",
        "from bluemira.base.file import get_bluemira_path\n",
        "\n",
        "# Some display functionality\n",
        "from bluemira.display import plotter, show_cad\n",
        "from bluemira.display.displayer import DisplayCADOptions\n",
        "\n",
        "# Basic objects\n",
        "from bluemira.geometry.coordinates import Coordinates\n",
        "from bluemira.geometry.face import BluemiraFace\n",
        "from bluemira.geometry.shell import BluemiraShell\n",
        "from bluemira.geometry.solid import BluemiraSolid\n",
        "\n",
        "# Some useful tools\n",
        "from bluemira.geometry.tools import (\n",
        "    boolean_cut,\n",
        "    boolean_fuse,\n",
        "    extrude_shape,\n",
        "    interpolate_bspline,\n",
        "    make_circle,\n",
        "    make_polygon,\n",
        "    revolve_shape,\n",
        "    save_as_STP,\n",
        "    sweep_shape,\n",
        ")\n",
        "from bluemira.geometry.wire import BluemiraWire"
      ],
      "outputs": [],
      "execution_count": null
    },
    {
      "cell_type": "markdown",
      "metadata": {},
      "source": [
        "## Geometry creation (1-D)\n",
        "\n",
        "Let's get familiar with some ways of making 1-D geometries.\n",
        "Bluemira implements functions for the creation of:\n",
        "* polygons\n",
        "* splines\n",
        "* arcs\n",
        "* a bit of everything (check geometry.tools module for an extensive list)\n",
        "\n",
        "Any 1-D geometry is stored in a BluemiraWire object. Just as example, we can start\n",
        "considering a simple linear segmented wire with vertexes on\n",
        "(0,0,0), (1,0,0), and (1,1,0)."
      ]
    },
    {
      "cell_type": "code",
      "metadata": {},
      "source": [
        "points1 = Coordinates({\"x\": [0, 1, 1], \"y\": [0, 0, 1], \"z\": [0, 0, 0]})\n",
        "first_wire = make_polygon(points1, label=\"wire1\")\n",
        "\n",
        "# A print of the object will return some useful info\n",
        "print(first_wire)\n",
        "\n",
        "# however, each information can be accessed through the respective\n",
        "# obj property, e.g.\n",
        "print(f\"Wire length: {first_wire.length}\")"
      ],
      "outputs": [],
      "execution_count": null
    },
    {
      "cell_type": "markdown",
      "metadata": {},
      "source": [
        "Concatenation of more wires is also allowed:"
      ]
    },
    {
      "cell_type": "code",
      "metadata": {},
      "source": [
        "points2 = Coordinates({\"x\": [1, 2], \"y\": [1, 2], \"z\": [0, 0]})\n",
        "second_wire = make_polygon(points2, label=\"wire2\")\n",
        "full_wire = BluemiraWire([first_wire, second_wire], label=\"full_wire\")\n",
        "print(full_wire)"
      ],
      "outputs": [],
      "execution_count": null
    },
    {
      "cell_type": "markdown",
      "metadata": {},
      "source": [
        "In such a case, sub-wires are still accessible as separate entities and\n",
        "can be returned through a search operation on the full wire:"
      ]
    },
    {
      "cell_type": "code",
      "metadata": {},
      "source": [
        "first_wire1 = full_wire.search(\"wire1\")[0]\n",
        "print(\n",
        "    f\"first_wire and first_wire1 have the same shape: {first_wire1.is_same(first_wire)}\"\n",
        ")\n",
        "\n",
        "# Simple plot\n",
        "wire_plotter = plotter.WirePlotter()\n",
        "wire_plotter.options.view = \"xy\"\n",
        "wire_plotter.plot_2d(full_wire)"
      ],
      "outputs": [],
      "execution_count": null
    },
    {
      "cell_type": "markdown",
      "metadata": {},
      "source": [
        "More complex geometries can be created using splines, arcs, etc."
      ]
    },
    {
      "cell_type": "code",
      "metadata": {},
      "source": [
        "wires = []\n",
        "wires.append(make_polygon([[0, 3], [0, 0], [0, 0]], label=\"w1\"))\n",
        "wires.append(make_circle(1, (3, 1, 0), 270, 360, label=\"c2\"))\n",
        "wires.append(make_polygon([[4, 4], [1, 3], [0, 0]], label=\"w3\"))\n",
        "wires.append(make_circle(1, (3, 3, 0), 0, 90, label=\"c4\"))\n",
        "wires.append(make_polygon([[3, 0], [4, 4], [0, 0]], label=\"w5\"))\n",
        "wires.append(make_polygon([[0, 0], [4, 0], [0, 0]], label=\"w6\"))\n",
        "closed_wire = BluemiraWire(wires, label=\"closed_wire\")\n",
        "wire_plotter.plot_2d(closed_wire)"
      ],
      "outputs": [],
      "execution_count": null
    },
    {
      "cell_type": "markdown",
      "metadata": {},
      "source": [
        "In such a case, the created wire is closed. A check can be done interrogating\n",
        "the is_closed function of the wire:"
      ]
    },
    {
      "cell_type": "code",
      "metadata": {},
      "source": [
        "print(f\"wire is closed: {closed_wire.is_closed()}\")"
      ],
      "outputs": [],
      "execution_count": null
    },
    {
      "cell_type": "markdown",
      "metadata": {},
      "source": [
        "## Geometry creation (2-D and 3-D)\n",
        "\n",
        "A closed planar 1-D geometry can be used as boundary to generate a 2-D face."
      ]
    },
    {
      "cell_type": "code",
      "metadata": {},
      "source": [
        "first_face = BluemiraFace(boundary=closed_wire, label=\"first_face\")\n",
        "print(first_face)"
      ],
      "outputs": [],
      "execution_count": null
    },
    {
      "cell_type": "markdown",
      "metadata": {},
      "source": [
        "A matplotlib-style plotting of a face can be made similarly to what was done for\n",
        "a wire, i.e. using a FacePlotter"
      ]
    },
    {
      "cell_type": "code",
      "metadata": {},
      "source": [
        "face_plotter = plotter.FacePlotter()\n",
        "face_plotter.options.view = \"xy\"\n",
        "face_plotter.plot_2d(first_face)"
      ],
      "outputs": [],
      "execution_count": null
    },
    {
      "cell_type": "markdown",
      "metadata": {},
      "source": [
        "If more than one closed wire is given as boundary for a face, the first one is\n",
        "used as the external boundary and subsequent ones are considered as holes."
      ]
    },
    {
      "cell_type": "code",
      "metadata": {},
      "source": [
        "points = Coordinates({\"x\": [1, 2, 2, 1], \"y\": [1, 1, 2, 2]})\n",
        "hole = make_polygon(points, label=\"hole\", closed=True)\n",
        "face_with_hole = BluemiraFace(boundary=[closed_wire, hole], label=\"face_with_hole\")\n",
        "print(face_with_hole)\n",
        "face_plotter.plot_2d(face_with_hole)"
      ],
      "outputs": [],
      "execution_count": null
    },
    {
      "cell_type": "markdown",
      "metadata": {},
      "source": [
        "Starting from 1-D or 2-D geometries, 3-D objects can be created, for example,\n",
        "by revolution or extrusion."
      ]
    },
    {
      "cell_type": "code",
      "metadata": {},
      "source": [
        "first_solid = extrude_shape(face_with_hole, (0, 0, 1), \"first_solid\")\n",
        "print(first_solid)\n",
        "\n",
        "# Note: 3-D operations generate solids that are disconnected from the primitive shape.\n",
        "# For this reason, it is not possible to retrieve our initial \"face_with_hole\"\n",
        "# interrogating \"fist_solid\"."
      ],
      "outputs": [],
      "execution_count": null
    },
    {
      "cell_type": "markdown",
      "metadata": {},
      "source": [
        "## 3-D Display\n",
        "\n",
        "Geometry objects can be displayed via `show_cad`, and the appearance\n",
        "of said objects customised by specifying `color` and `transparency`."
      ]
    },
    {
      "cell_type": "code",
      "metadata": {},
      "source": [
        "show_cad(first_solid, DisplayCADOptions(color=\"blue\", transparency=0.1))"
      ],
      "outputs": [],
      "execution_count": null
    },
    {
      "cell_type": "markdown",
      "metadata": {},
      "source": [
        "## Matryoshka structure\n",
        "\n",
        "Bluemira geometries are structured in a commonly used \"Matryoshka\" or\n",
        "\"Russian doll\"-like structure.\n",
        "\n",
        "Solid -> Shell -> Face -> Wire\n",
        "\n",
        "These are accessible via the boundary attribute, so, in general, the boundary\n",
        "of a Solid is a Shell or set of Shells, and a Shell will have a set of Faces, etc.\n",
        "\n",
        "Let's take a little peek under the hood of our solid:"
      ]
    },
    {
      "cell_type": "code",
      "metadata": {},
      "source": [
        "print(f\"Our shape is a BluemiraSolid: {isinstance(first_solid, BluemiraSolid)}\")\n",
        "\n",
        "i, j, k = 0, 0, 0  # This is just to facilitate comprehension\n",
        "for i, shell in enumerate(first_solid.boundary):\n",
        "    print(f\"Shell: {i}.{j}.{k} is a BluemiraShell: {isinstance(shell, BluemiraShell)}\")\n",
        "    for j, face in enumerate(shell.boundary):\n",
        "        print(f\"Face: {i}.{j}.{k} is a BluemiraFace: {isinstance(face, BluemiraFace)}\")\n",
        "        for k, wire in enumerate(face.boundary):\n",
        "            print(\n",
        "                f\"Wire: {i}.{j}.{k} is a BluemiraWire: {isinstance(wire, BluemiraWire)}\"\n",
        "            )"
      ],
      "outputs": [],
      "execution_count": null
    },
    {
      "cell_type": "markdown",
      "metadata": {},
      "source": [
        "\n",
        "## Geometric transformations\n",
        "\n",
        "When applying a geometric transformation to a BluemiraGeo object, that operation\n",
        "is transferred also to the boundary objects (in a recursive manner). That allows\n",
        "consistency between the object shape and its boundary without recreating\n",
        "the boundary set.\n",
        "\n",
        "Just as example, we are going to apply a translation to our \"face_with_hole\"."
      ]
    },
    {
      "cell_type": "code",
      "metadata": {},
      "source": [
        "# To have a reference to the initial object, we make a deepcopy of the face\n",
        "face_with_hole_copy = face_with_hole.deepcopy(\"face_copy\")\n",
        "\n",
        "# Now we apply the translation\n",
        "face_with_hole.translate((6, 1, 0))\n",
        "\n",
        "# and plot the face before and after the transformation (the translated face\n",
        "# is plotted in red)\n",
        "ax = face_plotter.plot_2d(face_with_hole_copy, show=False)\n",
        "face_plotter.options.face_options[\"color\"] = \"red\"\n",
        "face_plotter.plot_2d(face_with_hole, ax=ax, show=False)\n",
        "plt.title(\"Translated wire\")\n",
        "plt.show()\n",
        "\n",
        "# The same happens, for example, to the wire that identifies the hole.\n",
        "hole_copy = face_with_hole_copy.search(\"hole\")[0]\n",
        "wire_plotter.options.wire_options[\"color\"] = \"black\"\n",
        "ax = wire_plotter.plot_2d(hole_copy, show=False)\n",
        "wire_plotter.options.wire_options[\"color\"] = \"red\"\n",
        "wire_plotter.plot_2d(hole, ax=ax, show=False)\n",
        "plt.title(\"Translated wire test\")\n",
        "plt.show()"
      ],
      "outputs": [],
      "execution_count": null
    },
    {
      "cell_type": "markdown",
      "metadata": {},
      "source": [
        "## Geometry creation (complex shapes)\n",
        "\n",
        "OK, let's do something more complicated now.\n",
        "\n",
        "Polygons are good for things with straight lines.\n",
        "Arcs you've met already.\n",
        "For everything else, there's splines.\n",
        "\n",
        "Say you have a weird shape, that you might calculate via a equation.\n",
        "It's not a good idea to make a polygon with lots of very small sides\n",
        "for this. It's computationally expensive, and it will look ugly."
      ]
    },
    {
      "cell_type": "code",
      "metadata": {},
      "source": [
        "# Spline\n",
        "\n",
        "x = np.linspace(0, 10, 1000)\n",
        "y = 0.5 * np.sin(x) + 3 * np.cos(x) ** 2\n",
        "z = np.zeros(1000)\n",
        "\n",
        "points = np.array([x, y, z])\n",
        "spline = interpolate_bspline(points)\n",
        "points = np.array([x, y + 3, z])\n",
        "polygon = make_polygon(points)\n",
        "\n",
        "show_cad(\n",
        "    [spline, polygon], [DisplayCADOptions(color=\"blue\"), DisplayCADOptions(color=\"red\")]\n",
        ")"
      ],
      "outputs": [],
      "execution_count": null
    },
    {
      "cell_type": "code",
      "metadata": {},
      "source": [
        "# To get an idea of why polygons are bad / slow / ugly, try:\n",
        "vector = (0, 0, 1)\n",
        "show_cad(\n",
        "    [extrude_shape(spline, vector), extrude_shape(polygon, vector)],\n",
        "    [DisplayCADOptions(color=\"blue\"), DisplayCADOptions(color=\"red\")],\n",
        ")"
      ],
      "outputs": [],
      "execution_count": null
    },
    {
      "cell_type": "markdown",
      "metadata": {},
      "source": [
        "## Additional examples\n",
        "Making 3-D shapes from 2-D shapes\n",
        "\n",
        "You can:\n",
        "* extrude a shape `extrude_shape`, as we did with our solid\n",
        "* revolve a shape `revolve_shape`\n",
        "* sweep a shape `sweep_shape`"
      ]
    },
    {
      "cell_type": "code",
      "metadata": {},
      "source": [
        "# Make a hollow cylinder, by revolving a rectangle\n",
        "points = np.array([[4, 5, 5, 4], [0, 0, 0, 0], [2, 2, 3, 3]])\n",
        "rectangle = BluemiraFace(make_polygon(points, closed=True))\n",
        "\n",
        "hollow_cylinder = revolve_shape(\n",
        "    rectangle, base=(0, 0, 0), direction=(0, 0, 1), degree=360\n",
        ")\n",
        "\n",
        "show_cad(hollow_cylinder)"
      ],
      "outputs": [],
      "execution_count": null
    },
    {
      "cell_type": "code",
      "metadata": {},
      "source": [
        "# Sweep a profile along a path\n",
        "\n",
        "points = np.array([[4.5, 4.5], [0, 3], [2.5, 2.5]])\n",
        "straight_line = make_polygon(points)\n",
        "quarter_turn = make_circle(center=(3, 3, 2.5), axis=(0, 0, 1), radius=1.5, end_angle=90)\n",
        "path = BluemiraWire([straight_line, quarter_turn])\n",
        "solid = sweep_shape(rectangle.boundary[0], path)\n",
        "show_cad(solid)"
      ],
      "outputs": [],
      "execution_count": null
    },
    {
      "cell_type": "markdown",
      "metadata": {},
      "source": [
        "Making 3-D shapes from 3-D shapes\n",
        "\n",
        "Boolean operations often come in very useful when making CAD.\n",
        "* You can join geometries together with `boolean_fuse`\n",
        "* You can cut geometries from one another with `boolean_cut`"
      ]
    },
    {
      "cell_type": "code",
      "metadata": {},
      "source": [
        "points = np.array(\n",
        "    [\n",
        "        [0, 2, 2, 0],\n",
        "        [0, 0, 0, 0],\n",
        "        [0, 0, 3, 3],\n",
        "    ]\n",
        ")\n",
        "\n",
        "box_1 = BluemiraFace(make_polygon(points, closed=True))\n",
        "box_1 = extrude_shape(box_1, (0, 2, 0))\n",
        "\n",
        "points = np.array(\n",
        "    [\n",
        "        [1, 3, 3, 1],\n",
        "        [0, 0, 0, 0],\n",
        "        [0, 0, 2, 2],\n",
        "    ]\n",
        ")\n",
        "\n",
        "box_2 = BluemiraFace(make_polygon(points, closed=True))\n",
        "box_2 = extrude_shape(box_2, (0, 1, 0))\n",
        "\n",
        "fused_boxes = boolean_fuse([box_1, box_2])\n",
        "\n",
        "show_cad(fused_boxes)\n",
        "\n",
        "cut_box_1 = boolean_cut(box_1, box_2)[0]\n",
        "\n",
        "show_cad(cut_box_1)"
      ],
      "outputs": [],
      "execution_count": null
    },
    {
      "cell_type": "markdown",
      "metadata": {},
      "source": [
        "## Modification of existing geometries\n",
        "\n",
        "Now we're going to look at some stuff that we can do to change\n",
        "geometries we've already made.\n",
        "* Rotate\n",
        "* Translate\n",
        "* Scale"
      ]
    },
    {
      "cell_type": "code",
      "metadata": {},
      "source": [
        "# Let's save a deepcopy of a shape before modifying\n",
        "new_cut_box_1 = cut_box_1.deepcopy()\n",
        "\n",
        "new_cut_box_1.rotate(base=(0, 0, 0), direction=(0, 1, 0), degree=45)\n",
        "new_cut_box_1.translate((0, 3, 0))\n",
        "new_cut_box_1.scale(3)\n",
        "blue_red_options = [DisplayCADOptions(color=\"blue\"), DisplayCADOptions(color=\"red\")]\n",
        "show_cad([cut_box_1, new_cut_box_1], options=blue_red_options)"
      ],
      "outputs": [],
      "execution_count": null
    },
    {
      "cell_type": "markdown",
      "metadata": {},
      "source": [
        "## Exporting geometry\n",
        "\n",
        "At present, only the STEP Assembly format is supported\n",
        "for exporting geometry."
      ]
    },
    {
      "cell_type": "code",
      "metadata": {},
      "source": [
        "# Try saving any shape or group of shapes created above\n",
        "# as a STEP assembly\n",
        "\n",
        "my_shapes = [cut_box_1]\n",
        "# Modify this file path to where you want to save the data.\n",
        "my_file_path = \"my_tutorial_assembly.STP\"\n",
        "save_as_STP(\n",
        "    my_shapes,\n",
        "    filename=os.path.join(\n",
        "        get_bluemira_path(\"\", subfolder=\"generated_data\"), my_file_path\n",
        "    ),\n",
        "    scale=1,\n",
        ")"
      ],
      "outputs": [],
      "execution_count": null
    }
  ],
  "metadata": {
    "anaconda-cloud": {},
    "kernelspec": {
      "display_name": "Python 3",
      "language": "python",
      "name": "python3"
    },
    "language_info": {
      "codemirror_mode": {
        "name": "ipython",
        "version": 3
      },
      "file_extension": ".py",
      "mimetype": "text/x-python",
      "name": "python",
      "nbconvert_exporter": "python",
      "pygments_lexer": "ipython3",
      "version": "3.8.15"
    }
  },
  "nbformat": 4,
  "nbformat_minor": 4
}
