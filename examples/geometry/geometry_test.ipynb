{
  "cells": [
    {
      "cell_type": "markdown",
      "metadata": {},
      "source": [
        "\n",
        "# Introduction\n",
        "\n",
        "This is a simple example to test geometry caching module capabilities\n",
        "\n",
        "# Imports\n",
        "\n",
        "Import necessary module definitions."
      ]
    },
    {
      "cell_type": "code",
      "metadata": {},
      "source": [
        "import dolfin  # noqa\n",
        "import matplotlib.pyplot as plt\n",
        "\n",
        "import bluemira.display as display\n",
        "import bluemira.geometry.tools as geotools\n",
        "import bluemira.mesh.tools as meshtools\n",
        "from bluemira.base.components import Component, PhysicalComponent\n",
        "from bluemira.geometry.coordinates import Coordinates\n",
        "from bluemira.geometry.face import BluemiraFace\n",
        "from bluemira.geometry.wire import BluemiraWire\n",
        "from bluemira.mesh.meshing import Mesh"
      ],
      "outputs": [],
      "execution_count": null
    },
    {
      "cell_type": "markdown",
      "metadata": {},
      "source": [
        "\n",
        "# Geometry caching test\n",
        "\n",
        "Creation of a simple 2-D geometry.\n",
        "1. a square"
      ]
    },
    {
      "cell_type": "code",
      "metadata": {},
      "source": [
        "points = Coordinates({\"x\": [0, 2, 2, 0], \"y\": [0, 0, 2, 2]})\n",
        "wire_in = geotools.make_polygon(points, \"wire_in\", True)\n",
        "\n",
        "wire_plotter = display.plotter.WirePlotter()\n",
        "wire_plotter.options.view = \"xy\"\n",
        "wire_plotter.plot_2d(wire_in)"
      ],
      "outputs": [],
      "execution_count": null
    },
    {
      "cell_type": "markdown",
      "metadata": {},
      "source": [
        "\n",
        "2. a D-shape"
      ]
    },
    {
      "cell_type": "code",
      "metadata": {},
      "source": [
        "wires = []\n",
        "wires.append(geotools.make_polygon([[0, 3], [0, 0], [0, 0]], label=\"wire_out1\"))\n",
        "wires.append(geotools.make_circle(1, (3, 1, 0), 270, 360, label=\"circle_out2\"))\n",
        "wires.append(geotools.make_polygon([[4, 4], [1, 3], [0, 0]], label=\"wire_out3\"))\n",
        "wires.append(geotools.make_circle(1, (3, 3, 0), 0, 90, label=\"circle_out4\"))\n",
        "wires.append(geotools.make_polygon([[3, 0], [4, 4], [0, 0]], label=\"wire_out5\"))\n",
        "wires.append(geotools.make_polygon([[0, 0], [4, 0], [0, 0]], label=\"wire_out6\"))\n",
        "wire_out = BluemiraWire(wires, label=\"wire_out\")\n",
        "print(wire_out)\n",
        "print(f\"wire_out is closed: {wire_out.is_closed()}\")\n",
        "wire_plotter.plot_2d(wire_out)"
      ],
      "outputs": [],
      "execution_count": null
    },
    {
      "cell_type": "markdown",
      "metadata": {},
      "source": [
        "\n",
        "Create a component (just for plotting purpose in this case)"
      ]
    },
    {
      "cell_type": "code",
      "metadata": {},
      "source": [
        "root = Component(\"test_comp\")\n",
        "root.plot_options.view = \"xy\"\n",
        "root.plot_options.wire_options[\"linewidth\"] = 2\n",
        "comp_in = PhysicalComponent(\"comp_in\", wire_in, parent=root)\n",
        "comp_in.plot_options.view = \"xy\"\n",
        "comp_in.plot_options.wire_options[\"linewidth\"] = 2\n",
        "comp_out = PhysicalComponent(\"comp_out\", wire_out, parent=root)\n",
        "comp_out.plot_options.view = \"xy\"\n",
        "comp_out.plot_options.wire_options[\"linewidth\"] = 2\n",
        "root.plot_2d(show=True)"
      ],
      "outputs": [],
      "execution_count": null
    },
    {
      "cell_type": "markdown",
      "metadata": {},
      "source": [
        "\n",
        "Apply a translation to wire_in"
      ]
    },
    {
      "cell_type": "code",
      "metadata": {},
      "source": [
        "wire_in.translate((1, 1, 0))\n",
        "root.plot_2d(show=True)"
      ],
      "outputs": [],
      "execution_count": null
    },
    {
      "cell_type": "markdown",
      "metadata": {},
      "source": [
        "\n",
        "Change one of the sub-wires in wire_out.\n",
        "Warning: This is a non-conventional operation"
      ]
    },
    {
      "cell_type": "code",
      "metadata": {},
      "source": [
        "new_wire = geotools.make_polygon([[3, 4], [0, 1], [0, 0]], \"wire_out2\")\n",
        "wire_out.boundary[1] = new_wire\n",
        "\n",
        "# # or\n",
        "# old_wire = wire_out.search(\"circle_out2\")[0]\n",
        "# old_wire.boundary = new_wire.boundary\n",
        "# old_wire.label = new_wire.label\n",
        "root.plot_2d(show=True)"
      ],
      "outputs": [],
      "execution_count": null
    },
    {
      "cell_type": "markdown",
      "metadata": {},
      "source": [
        "\n",
        "As can be seen, root shape is not changed. This is because the wire_out shape has\n",
        "not been updated (there is no collback that \"informs\" wire_out on a change in the\n",
        "internal structure of a wire.\n",
        "\n",
        "wire_out must be updated."
      ]
    },
    {
      "cell_type": "code",
      "metadata": {},
      "source": [
        "wire_out._set_boundary(wire_out.boundary)\n",
        "\n",
        "print(wire_out)\n",
        "root.plot_2d(show=True)"
      ],
      "outputs": [],
      "execution_count": null
    },
    {
      "cell_type": "markdown",
      "metadata": {},
      "source": [
        "\n",
        "# Meshing\n",
        "Set mesh options for comp_out and comp_in"
      ]
    },
    {
      "cell_type": "code",
      "metadata": {},
      "source": [
        "comp_out.shape.mesh_options.lcar = 0.1\n",
        "comp_out.shape.mesh_options.physical_group = \"out\"\n",
        "\n",
        "comp_in.shape.mesh_options.lcar = 0.1\n",
        "comp_in.shape.mesh_options.physical_group = \"in\""
      ],
      "outputs": [],
      "execution_count": null
    },
    {
      "cell_type": "markdown",
      "metadata": {},
      "source": [
        "\n",
        "Create a face\n",
        "Note: wire mesh options are still stored in face through its \"self.boundary\".\n",
        "However, it is necessary to define (at least) the mesh_options.physical_group for\n",
        "face, otherwise it will not be exported during the mesh process."
      ]
    },
    {
      "cell_type": "code",
      "metadata": {},
      "source": [
        "face = BluemiraFace([wire_out, wire_in], label=\"face\")\n",
        "# face.mesh_options.lcar = 0.1\n",
        "face.mesh_options.physical_group = \"face\""
      ],
      "outputs": [],
      "execution_count": null
    },
    {
      "cell_type": "markdown",
      "metadata": {},
      "source": [
        "\n",
        "Create the respective component (for plotting and meshing purpose)"
      ]
    },
    {
      "cell_type": "code",
      "metadata": {},
      "source": [
        "face_comp = PhysicalComponent(\"face_comp\", face)\n",
        "face_comp.plot_options.view = \"xy\"\n",
        "face_comp.plot_options.wire_options[\"linewidth\"] = 2\n",
        "face_comp.plot_2d(show=True)"
      ],
      "outputs": [],
      "execution_count": null
    },
    {
      "cell_type": "markdown",
      "metadata": {},
      "source": [
        "\n",
        "Mesh face_comp and import in dolfin"
      ]
    },
    {
      "cell_type": "code",
      "metadata": {},
      "source": [
        "m = Mesh()\n",
        "buffer = m(face_comp)\n",
        "meshtools.msh_to_xdmf(\"Mesh.msh\", dimensions=2, directory=\".\")\n",
        "\n",
        "mesh, boundaries, _, _ = meshtools.import_mesh(\n",
        "    \"Mesh\",\n",
        "    directory=\".\",\n",
        "    subdomains=True,\n",
        ")\n",
        "\n",
        "dolfin.plot(mesh)\n",
        "plt.show()"
      ],
      "outputs": [],
      "execution_count": null
    },
    {
      "cell_type": "markdown",
      "metadata": {},
      "source": [
        "\n",
        "Since no geometry operations have been made that called a \"recreation\" of the\n",
        "self.boundary property, it is still possible to act on any wire property to have an\n",
        "effect on face_comp. For example, it is possible to change the mesh size of a\n",
        "sub-wire in wire_out (in this case, \"circle_out4\"):"
      ]
    },
    {
      "cell_type": "code",
      "metadata": {},
      "source": [
        "obj = wire_out.search(\"circle_out4\")[0]\n",
        "obj.mesh_options.lcar = 0.02\n",
        "obj.mesh_options.physical_group = \"circle\"\n",
        "\n",
        "buffer = m(face_comp)\n",
        "meshtools.msh_to_xdmf(\"Mesh.msh\", dimensions=2, directory=\".\")\n",
        "\n",
        "mesh, boundaries, _, _ = meshtools.import_mesh(\n",
        "    \"Mesh\",\n",
        "    directory=\".\",\n",
        "    subdomains=True,\n",
        ")\n",
        "\n",
        "dolfin.plot(mesh)\n",
        "plt.show()"
      ],
      "outputs": [],
      "execution_count": null
    }
  ],
  "metadata": {
    "anaconda-cloud": {},
    "kernelspec": {
      "display_name": "Python 3",
      "language": "python",
      "name": "python3"
    },
    "language_info": {
      "codemirror_mode": {
        "name": "ipython",
        "version": 3
      },
      "file_extension": ".py",
      "mimetype": "text/x-python",
      "name": "python",
      "nbconvert_exporter": "python",
      "pygments_lexer": "ipython3",
      "version": "3.8.13"
    }
  },
  "nbformat": 4,
  "nbformat_minor": 4
}
