{
  "cells": [
    {
      "cell_type": "markdown",
      "metadata": {},
      "source": [
        "\n",
        "# Introduction\n",
        "\n",
        "In this example, we will show how to use the mesh module to create a 2D mesh for fem\n",
        "application\n",
        "\n",
        "# Imports\n",
        "\n",
        "Import necessary module definitions."
      ]
    },
    {
      "cell_type": "code",
      "metadata": {},
      "source": [
        "import os\n",
        "\n",
        "import dolfin\n",
        "import matplotlib.pyplot as plt\n",
        "\n",
        "import bluemira.geometry.tools as tools\n",
        "from bluemira.base.components import Component, PhysicalComponent\n",
        "from bluemira.base.file import get_bluemira_root\n",
        "from bluemira.equilibria.shapes import JohnerLCFS\n",
        "from bluemira.geometry.face import BluemiraFace\n",
        "from bluemira.geometry.placement import BluemiraPlacement\n",
        "from bluemira.geometry.wire import BluemiraWire\n",
        "from bluemira.mesh import meshing\n",
        "\n",
        "HAS_MSH2XDMF = False\n",
        "try:\n",
        "    from bluemira.utilities.tools import get_module\n",
        "\n",
        "    msh2xdmf = get_module(\n",
        "        os.path.join(get_bluemira_root(), \"..\", \"msh2xdmf\", \"msh2xdmf.py\")\n",
        "    )\n",
        "\n",
        "    HAS_MSH2XDMF = True\n",
        "except ImportError as err:\n",
        "    print(f\"Unable to import msh2xdmf, dolfin examples will not run: {err}\")"
      ],
      "outputs": [],
      "execution_count": null
    },
    {
      "cell_type": "markdown",
      "metadata": {},
      "source": [
        "\n",
        "# Geometry\n",
        "\n",
        "Creation of a simple 2D geometry, i.e. a Johner shape + a coil with casing"
      ]
    },
    {
      "cell_type": "code",
      "metadata": {},
      "source": [
        "p = JohnerLCFS()\n",
        "lcfs = p.create_shape(label=\"LCFS\")\n",
        "\n",
        "poly1 = tools.make_polygon(\n",
        "    [[0, 1, 1], [0, 0, 1], [0, 0, 0]], closed=False, label=\"poly1\"\n",
        ")\n",
        "poly2 = tools.make_polygon(\n",
        "    [[1, 0, 0], [1, 1, 0], [0, 0, 0]], closed=False, label=\"poly2\"\n",
        ")\n",
        "poly3 = tools.make_polygon(\n",
        "    [[0.25, 0.75, 0.75], [0.25, 0.25, 0.75], [0, 0, 0]], closed=False, label=\"poly3\"\n",
        ")\n",
        "poly4 = tools.make_polygon(\n",
        "    [[0.75, 0.25, 0.25], [0.75, 0.75, 0.25], [0, 0, 0]], closed=False, label=\"poly4\"\n",
        ")\n",
        "poly_out = BluemiraWire([poly1, poly2], label=\"poly_out\")\n",
        "poly_in = BluemiraWire([poly3, poly4], label=\"poly_in\")\n",
        "coil_out = BluemiraFace([poly_out, poly_in], label=\"coil_out\")\n",
        "coil_in = BluemiraFace([poly_in], label=\"coil_in\")"
      ],
      "outputs": [],
      "execution_count": null
    },
    {
      "cell_type": "markdown",
      "metadata": {},
      "source": [
        "\n",
        "Note: due to a limitation of the mesh converter for importing of the mesh into a fem\n",
        "solver, the 2D geometry must to lie on the xy plane. For this reason, a rotation of\n",
        "the geometry is applied."
      ]
    },
    {
      "cell_type": "code",
      "metadata": {},
      "source": [
        "lcfs.change_placement((BluemiraPlacement(axis=[1.0, 0.0, 0.0], angle=-90)))"
      ],
      "outputs": [],
      "execution_count": null
    },
    {
      "cell_type": "markdown",
      "metadata": {},
      "source": [
        "\n",
        "# Mesh setup\n",
        "\n",
        "setup characteristic mesh length"
      ]
    },
    {
      "cell_type": "code",
      "metadata": {},
      "source": [
        "lcfs.mesh_options = {\"lcar\": 0.75, \"physical_group\": \"LCFS\"}\n",
        "face = BluemiraFace(lcfs, label=\"plasma_surface\")\n",
        "face.mesh_options = {\"lcar\": 0.5, \"physical_group\": \"surface\"}\n",
        "\n",
        "poly1.mesh_options = {\"lcar\": 0.25, \"physical_group\": \"poly1\"}\n",
        "poly2.mesh_options = {\"lcar\": 0.25, \"physical_group\": \"poly2\"}\n",
        "poly3.mesh_options = {\"lcar\": 0.75, \"physical_group\": \"poly3\"}\n",
        "poly4.mesh_options = {\"lcar\": 0.75, \"physical_group\": \"poly4\"}\n",
        "coil_out.mesh_options = {\"lcar\": 1, \"physical_group\": \"coil\"}\n",
        "coil_in.mesh_options = {\"lcar\": 0.3, \"physical_group\": \"coil\"}"
      ],
      "outputs": [],
      "execution_count": null
    },
    {
      "cell_type": "markdown",
      "metadata": {},
      "source": [
        "\n",
        "In order to mesh all the geometry in one, the best solution is to create a component\n",
        "tree as in the following"
      ]
    },
    {
      "cell_type": "code",
      "metadata": {},
      "source": [
        "c_all = Component(name=\"all\")\n",
        "c_plasma = PhysicalComponent(name=\"plasma\", shape=face, parent=c_all)\n",
        "c_coil = Component(name=\"coil\", parent=c_all)\n",
        "c_coil_in = PhysicalComponent(name=\"coil_in\", shape=coil_in, parent=c_coil)\n",
        "c_coil_out = PhysicalComponent(name=\"coil_out\", shape=coil_out, parent=c_coil)"
      ],
      "outputs": [],
      "execution_count": null
    },
    {
      "cell_type": "markdown",
      "metadata": {},
      "source": [
        "\n",
        "Initialize and create the mesh"
      ]
    },
    {
      "cell_type": "code",
      "metadata": {},
      "source": [
        "m = meshing.Mesh()\n",
        "buffer = m(c_all)\n",
        "print(m.get_gmsh_dict(buffer))"
      ],
      "outputs": [],
      "execution_count": null
    },
    {
      "cell_type": "markdown",
      "metadata": {},
      "source": [
        "\n",
        "# Convert to xdmf\n",
        "\n",
        "Convert the mesh in xdmf for reading in fenics (fem tool). Note that this requires the\n",
        "msh2xdmf module to be available."
      ]
    },
    {
      "cell_type": "code",
      "metadata": {},
      "source": [
        "if HAS_MSH2XDMF:\n",
        "    msh2xdmf.msh2xdmf(\"Mesh.msh\", dim=2, directory=\".\")\n",
        "\n",
        "    mesh, boundaries, subdomains, labels = msh2xdmf.import_mesh(\n",
        "        prefix=\"Mesh\",\n",
        "        dim=2,\n",
        "        directory=\".\",\n",
        "        subdomains=True,\n",
        "    )\n",
        "    dolfin.plot(mesh)\n",
        "    plt.show()\n",
        "\n",
        "    print(mesh.coordinates())"
      ],
      "outputs": [],
      "execution_count": null
    }
  ],
  "metadata": {
    "anaconda-cloud": {},
    "kernelspec": {
      "display_name": "Python 3",
      "language": "python",
      "name": "python3"
    },
    "language_info": {
      "codemirror_mode": {
        "name": "ipython",
        "version": 3
      },
      "file_extension": ".py",
      "mimetype": "text/x-python",
      "name": "python",
      "nbconvert_exporter": "python",
      "pygments_lexer": "ipython3",
      "version": "3.8.12"
    }
  },
  "nbformat": 4,
  "nbformat_minor": 4
}
