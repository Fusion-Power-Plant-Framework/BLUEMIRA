{
  "cells": [
    {
      "cell_type": "code",
      "metadata": {},
      "source": [
        "from cgi import test\n",
        "\n",
        "import matplotlib.pyplot as plt\n",
        "\n",
        "import bluemira.codes.process as process\n",
        "from bluemira.base.config import Configuration\n",
        "from bluemira.base.file import get_bluemira_path\n",
        "from bluemira.base.parameter import ParameterFrame\n",
        "from bluemira.equilibria import Equilibrium\n",
        "from bluemira.geometry._deprecated_loop import Loop\n",
        "from bluemira.radiation_transport.radiation_profile import RadiationSolver\n",
        "from bluemira.radiation_transport.temp_fs_maker import TempFsSolver"
      ],
      "outputs": [],
      "execution_count": null
    },
    {
      "cell_type": "markdown",
      "metadata": {},
      "source": [
        "Read equilibrium"
      ]
    },
    {
      "cell_type": "code",
      "metadata": {},
      "source": [
        "read_path = get_bluemira_path(\"equilibria\", subfolder=\"data\")\n",
        "eq_name = \"DN-DEMO_eqref.json\"\n",
        "eq_name = os.sep.join([read_path, eq_name])\n",
        "eq = Equilibrium.from_eqdsk(eq_name, load_large_file=True)"
      ],
      "outputs": [],
      "execution_count": null
    },
    {
      "cell_type": "markdown",
      "metadata": {},
      "source": [
        "Get first wall shape"
      ]
    },
    {
      "cell_type": "code",
      "metadata": {},
      "source": [
        "read_path = get_bluemira_path(\"radiation_transport/test_data\", subfolder=\"tests\")\n",
        "fw_name = \"DN_fw_shape.json\"\n",
        "fw_name = os.sep.join([read_path, fw_name])\n",
        "fw_shape = Loop.from_file(fw_name)"
      ],
      "outputs": [],
      "execution_count": null
    },
    {
      "cell_type": "markdown",
      "metadata": {},
      "source": [
        "Run particle solver"
      ]
    },
    {
      "cell_type": "code",
      "metadata": {},
      "source": [
        "p_solver_params = ParameterFrame()\n",
        "solver = TempFsSolver(p_solver_params, eq, dx_mp=0.001)\n",
        "solver.analyse(first_wall=fw_shape)"
      ],
      "outputs": [],
      "execution_count": null
    },
    {
      "cell_type": "markdown",
      "metadata": {},
      "source": [
        "Run PROCESS solver"
      ]
    },
    {
      "cell_type": "code",
      "metadata": {},
      "source": [
        "PROCESS_PATH = \"\"\n",
        "binary = f\"{PROCESS_PATH}process\"\n",
        "\n",
        "new_params = {\n",
        "    \"kappa\": 1.6969830041844367,\n",
        "}\n",
        "params = Configuration(new_params)\n",
        "\n",
        "build_config = {\n",
        "    \"mode\": \"run\",\n",
        "    \"binary\": binary,\n",
        "}\n",
        "\n",
        "process_solver = process.Solver(\n",
        "    params=params,\n",
        "    build_config=build_config,\n",
        ")\n",
        "process_solver.run()"
      ],
      "outputs": [],
      "execution_count": null
    },
    {
      "cell_type": "markdown",
      "metadata": {},
      "source": [
        "Get impurity fractions"
      ]
    },
    {
      "cell_type": "code",
      "metadata": {},
      "source": [
        "impurity_content = {\n",
        "    \"H\": process_solver.get_species_fraction(\"H\"),\n",
        "    \"He\": process_solver.get_species_fraction(\"He\"),\n",
        "    \"Xe\": process_solver.get_species_fraction(\"Xe\"),\n",
        "    \"W\": process_solver.get_species_fraction(\"W\"),\n",
        "}"
      ],
      "outputs": [],
      "execution_count": null
    },
    {
      "cell_type": "markdown",
      "metadata": {},
      "source": [
        "Get impurity data: temperature reference\n",
        "and radiative loss function reference"
      ]
    },
    {
      "cell_type": "code",
      "metadata": {},
      "source": [
        "impurity_data = {\n",
        "    \"H\": {\n",
        "        \"T_ref\": process_solver.get_species_data(\"H\")[0],\n",
        "        \"L_ref\": process_solver.get_species_data(\"H\")[1],\n",
        "    },\n",
        "    \"He\": {\n",
        "        \"T_ref\": process_solver.get_species_data(\"He\")[0],\n",
        "        \"L_ref\": process_solver.get_species_data(\"He\")[1],\n",
        "    },\n",
        "    \"Xe\": {\n",
        "        \"T_ref\": process_solver.get_species_data(\"Xe\")[0],\n",
        "        \"L_ref\": process_solver.get_species_data(\"Xe\")[1],\n",
        "    },\n",
        "    \"W\": {\n",
        "        \"T_ref\": process_solver.get_species_data(\"W\")[0],\n",
        "        \"L_ref\": process_solver.get_species_data(\"W\")[1],\n",
        "    },\n",
        "}"
      ],
      "outputs": [],
      "execution_count": null
    },
    {
      "cell_type": "markdown",
      "metadata": {},
      "source": [
        "Eventually customise plasma parameters to deviate from default values"
      ]
    },
    {
      "cell_type": "code",
      "metadata": {},
      "source": [
        "plasma_params = ParameterFrame(\n",
        "    # fmt: off\n",
        "    [\n",
        "        [\"kappa\", \"Elongation\", 3, \"dimensionless\", None, \"Input\"],\n",
        "    ]\n",
        "    # fmt: on\n",
        ")"
      ],
      "outputs": [],
      "execution_count": null
    },
    {
      "cell_type": "markdown",
      "metadata": {},
      "source": [
        "Run core radiation source calculation for Spherical Tokamak"
      ]
    },
    {
      "cell_type": "code",
      "metadata": {},
      "source": [
        "rad_solver = RadiationSolver(eq, solver, plasma_params, impurity_content, impurity_data)\n",
        "x, z, rad = rad_solver.analyse(fw_shape)\n",
        "\n",
        "core_rad_by_psi = rad_solver.rad_core_by_psi_n(0.9)\n",
        "print(core_rad_by_psi)\n",
        "\n",
        "core_rad_by_point = rad_solver.rad_core_by_points(12, -0.5)\n",
        "print(core_rad_by_point)\n",
        "\n",
        "rdm_rad_by_psi_1 = rad_solver.rad_by_psi_n(0.9)\n",
        "print(rdm_rad_by_psi_1)\n",
        "\n",
        "rdm_rad_by_psi_2 = rad_solver.rad_by_psi_n(1.05)\n",
        "print(rdm_rad_by_psi_2)\n",
        "\n",
        "rdm_rad_by_point_1 = rad_solver.rad_by_points(9.5, 5.35)\n",
        "print(rdm_rad_by_point_1)\n",
        "\n",
        "rdm_rad_by_point_2 = rad_solver.rad_by_points(12, -0.5)\n",
        "print(rdm_rad_by_point_2)\n",
        "\n",
        "\n",
        "rad_solver.plot()\n",
        "\n",
        "plt.show()"
      ],
      "outputs": [],
      "execution_count": null
    }
  ],
  "metadata": {
    "anaconda-cloud": {},
    "kernelspec": {
      "display_name": "Python 3",
      "language": "python",
      "name": "python3"
    },
    "language_info": {
      "codemirror_mode": {
        "name": "ipython",
        "version": 3
      },
      "file_extension": ".py",
      "mimetype": "text/x-python",
      "name": "python",
      "nbconvert_exporter": "python",
      "pygments_lexer": "ipython3",
      "version": "3.8.10"
    }
  },
  "nbformat": 4,
  "nbformat_minor": 4
}
