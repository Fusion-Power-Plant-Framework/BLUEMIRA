{
  "cells": [
    {
      "cell_type": "code",
      "metadata": {},
      "source": [
        "import os\n",
        "\n",
        "import matplotlib.pyplot as plt\n",
        "\n",
        "from bluemira.base.file import get_bluemira_path\n",
        "from bluemira.equilibria import Equilibrium\n",
        "from bluemira.geometry._deprecated_loop import Loop\n",
        "from bluemira.radiation_transport.advective_transport import ChargedParticleSolver"
      ],
      "outputs": [],
      "execution_count": null
    },
    {
      "cell_type": "markdown",
      "metadata": {},
      "source": [
        "\n",
        "First we load an up equilibrium"
      ]
    },
    {
      "cell_type": "code",
      "metadata": {},
      "source": [
        "read_path = get_bluemira_path(\"equilibria\", subfolder=\"data\")\n",
        "eq_name = \"DN-DEMO_eqref.json\"\n",
        "eq_name = os.path.join(read_path, eq_name)\n",
        "eq = Equilibrium.from_eqdsk(eq_name)"
      ],
      "outputs": [],
      "execution_count": null
    },
    {
      "cell_type": "markdown",
      "metadata": {},
      "source": [
        "\n",
        "Now we load a first wall geometry, so that the solver can determine where the flux\n",
        "surfaces intersect the first wall."
      ]
    },
    {
      "cell_type": "code",
      "metadata": {},
      "source": [
        "read_path = get_bluemira_path(\"radiation_transport/test_data\", subfolder=\"tests\")\n",
        "fw_name = \"DN_fw_shape.json\"\n",
        "fw_name = os.path.join(read_path, fw_name)\n",
        "fw_shape = Loop.from_file(fw_name)"
      ],
      "outputs": [],
      "execution_count": null
    },
    {
      "cell_type": "markdown",
      "metadata": {},
      "source": [
        "\n",
        "Then we define some input `Parameter`s for the solver."
      ]
    },
    {
      "cell_type": "code",
      "metadata": {},
      "source": [
        "params = {\n",
        "    \"P_sep_particle\": 150,\n",
        "    \"f_p_sol_near\": 0.65,\n",
        "    \"fw_lambda_q_near_omp\": 0.003,\n",
        "    \"fw_lambda_q_far_omp\": 0.1,\n",
        "    \"fw_lambda_q_near_imp\": 0.003,\n",
        "    \"fw_lambda_q_far_imp\": 0.1,\n",
        "    \"f_lfs_lower_target\": 0.9 * 0.5,\n",
        "    \"f_hfs_lower_target\": 0.1 * 0.5,\n",
        "    \"f_lfs_upper_target\": 0.9 * 0.5,\n",
        "    \"f_hfs_upper_target\": 0.1 * 0.5,\n",
        "}"
      ],
      "outputs": [],
      "execution_count": null
    },
    {
      "cell_type": "markdown",
      "metadata": {},
      "source": [
        "\n",
        "Finally, we initialise the `ChargedParticleSolver` and run it."
      ]
    },
    {
      "cell_type": "code",
      "metadata": {},
      "source": [
        "solver = ChargedParticleSolver(params, eq, dx_mp=0.001)\n",
        "x, z, hf = solver.analyse(first_wall=fw_shape)\n",
        "\n",
        "solver.plot()\n",
        "plt.show()"
      ],
      "outputs": [],
      "execution_count": null
    }
  ],
  "metadata": {
    "anaconda-cloud": {},
    "kernelspec": {
      "display_name": "Python 3",
      "language": "python",
      "name": "python3"
    },
    "language_info": {
      "codemirror_mode": {
        "name": "ipython",
        "version": 3
      },
      "file_extension": ".py",
      "mimetype": "text/x-python",
      "name": "python",
      "nbconvert_exporter": "python",
      "pygments_lexer": "ipython3",
      "version": "3.8.13"
    }
  },
  "nbformat": 4,
  "nbformat_minor": 4
}
