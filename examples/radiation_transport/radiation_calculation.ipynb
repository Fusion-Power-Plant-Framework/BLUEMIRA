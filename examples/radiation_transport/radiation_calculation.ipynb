{
  "cells": [
    {
      "cell_type": "code",
      "metadata": {},
      "source": [
        "import os\n",
        "\n",
        "import matplotlib.pyplot as plt\n",
        "\n",
        "import bluemira.codes.process as process\n",
        "from bluemira.base.config import Configuration\n",
        "from bluemira.base.file import get_bluemira_path\n",
        "from bluemira.base.parameter import ParameterFrame\n",
        "from bluemira.equilibria import Equilibrium\n",
        "from bluemira.geometry._deprecated_loop import Loop\n",
        "from bluemira.radiation_transport.advective_transport import ChargedParticleSolver\n",
        "from bluemira.radiation_transport.radiation_profile import STCore, STScrapeOffLayer"
      ],
      "outputs": [],
      "execution_count": null
    },
    {
      "cell_type": "markdown",
      "metadata": {},
      "source": [
        "Read equilibrium"
      ]
    },
    {
      "cell_type": "code",
      "metadata": {},
      "source": [
        "read_path = get_bluemira_path(\"equilibria\", subfolder=\"data\")\n",
        "eq_name = \"DN-DEMO_eqref.json\"\n",
        "eq_name = os.sep.join([read_path, eq_name])\n",
        "eq = Equilibrium.from_eqdsk(eq_name, load_large_file=True)"
      ],
      "outputs": [],
      "execution_count": null
    },
    {
      "cell_type": "markdown",
      "metadata": {},
      "source": [
        "Get first wall shape"
      ]
    },
    {
      "cell_type": "code",
      "metadata": {},
      "source": [
        "read_path = get_bluemira_path(\"radiation_transport/test_data\", subfolder=\"tests\")\n",
        "fw_name = \"DN_fw_shape.json\"\n",
        "fw_name = os.sep.join([read_path, fw_name])\n",
        "fw_shape = Loop.from_file(fw_name)"
      ],
      "outputs": [],
      "execution_count": null
    },
    {
      "cell_type": "markdown",
      "metadata": {},
      "source": [
        "Run particle solver"
      ]
    },
    {
      "cell_type": "code",
      "metadata": {},
      "source": [
        "p_solver_params = ParameterFrame()\n",
        "solver = ChargedParticleSolver(p_solver_params, eq, dx_mp=0.001)\n",
        "solver.analyse(first_wall=fw_shape)"
      ],
      "outputs": [],
      "execution_count": null
    },
    {
      "cell_type": "markdown",
      "metadata": {},
      "source": [
        "Run PROCESS solver"
      ]
    },
    {
      "cell_type": "code",
      "metadata": {},
      "source": [
        "PROCESS_PATH = \"\"\n",
        "binary = f\"{PROCESS_PATH}process\"\n",
        "\n",
        "new_params = {\n",
        "    \"kappa\": 1.6969830041844367,\n",
        "}\n",
        "params = Configuration(new_params)\n",
        "\n",
        "build_config = {\n",
        "    \"mode\": \"run\",\n",
        "    \"binary\": binary,\n",
        "}\n",
        "\n",
        "process_solver = process.Solver(\n",
        "    params=params,\n",
        "    build_config=build_config,\n",
        ")\n",
        "process_solver.run()"
      ],
      "outputs": [],
      "execution_count": null
    },
    {
      "cell_type": "markdown",
      "metadata": {},
      "source": [
        "Get impurity fractions"
      ]
    },
    {
      "cell_type": "code",
      "metadata": {},
      "source": [
        "impurity_content = {\n",
        "    \"H\": process_solver.get_species_fraction(\"H\"),\n",
        "    \"He\": process_solver.get_species_fraction(\"He\"),\n",
        "    \"Xe\": process_solver.get_species_fraction(\"Xe\"),\n",
        "    \"W\": process_solver.get_species_fraction(\"W\"),\n",
        "}"
      ],
      "outputs": [],
      "execution_count": null
    },
    {
      "cell_type": "markdown",
      "metadata": {},
      "source": [
        "Get impurity data: temperature reference\n",
        "and radiative loss function reference"
      ]
    },
    {
      "cell_type": "code",
      "metadata": {},
      "source": [
        "impurity_data = {\n",
        "    \"H\": {\n",
        "        \"T_ref\": process_solver.get_species_data(\"H\")[0],\n",
        "        \"L_ref\": process_solver.get_species_data(\"H\")[1],\n",
        "    },\n",
        "    \"He\": {\n",
        "        \"T_ref\": process_solver.get_species_data(\"He\")[0],\n",
        "        \"L_ref\": process_solver.get_species_data(\"He\")[1],\n",
        "    },\n",
        "    \"Xe\": {\n",
        "        \"T_ref\": process_solver.get_species_data(\"Xe\")[0],\n",
        "        \"L_ref\": process_solver.get_species_data(\"Xe\")[1],\n",
        "    },\n",
        "    \"W\": {\n",
        "        \"T_ref\": process_solver.get_species_data(\"W\")[0],\n",
        "        \"L_ref\": process_solver.get_species_data(\"W\")[1],\n",
        "    },\n",
        "}"
      ],
      "outputs": [],
      "execution_count": null
    },
    {
      "cell_type": "markdown",
      "metadata": {},
      "source": [
        "Eventually customise plasma parameters to deviate from default values"
      ]
    },
    {
      "cell_type": "code",
      "metadata": {},
      "source": [
        "plasma_params = ParameterFrame(\n",
        "    # fmt: off\n",
        "    [\n",
        "        [\"kappa\", \"Elongation\", 3, \"dimensionless\", None, \"Input\"],\n",
        "    ]\n",
        "    # fmt: on\n",
        ")"
      ],
      "outputs": [],
      "execution_count": null
    },
    {
      "cell_type": "markdown",
      "metadata": {},
      "source": [
        "Eventually customise radiation parameters to deviate from default values"
      ]
    },
    {
      "cell_type": "code",
      "metadata": {},
      "source": [
        "rad_params = ParameterFrame(\n",
        "    # fmt: off\n",
        "    [\n",
        "        [\"p_sol\", \"power entering the SoL\", 300e6, \"W\", None, \"Input\"],\n",
        "    ]\n",
        "    # fmt: on\n",
        ")"
      ],
      "outputs": [],
      "execution_count": null
    },
    {
      "cell_type": "markdown",
      "metadata": {},
      "source": [
        "Run core radiation source calculation for Spherical Tokamak"
      ]
    },
    {
      "cell_type": "code",
      "metadata": {},
      "source": [
        "stcore = STCore(solver, impurity_content, impurity_data, plasma_params, rad_params)"
      ],
      "outputs": [],
      "execution_count": null
    },
    {
      "cell_type": "markdown",
      "metadata": {},
      "source": [
        "Build radiation profile at the midplane and 2D core radiation map"
      ]
    },
    {
      "cell_type": "code",
      "metadata": {},
      "source": [
        "stcore.build_mp_rad_profile()\n",
        "stcore.build_core_radiation_map()"
      ],
      "outputs": [],
      "execution_count": null
    },
    {
      "cell_type": "markdown",
      "metadata": {},
      "source": [
        "Run scrape-off layer radiation source calculation for Spherical Tokamak"
      ]
    },
    {
      "cell_type": "code",
      "metadata": {},
      "source": [
        "stsol = STScrapeOffLayer(\n",
        "    solver, impurity_content, impurity_data, plasma_params, rad_params, fw_shape\n",
        ")"
      ],
      "outputs": [],
      "execution_count": null
    },
    {
      "cell_type": "markdown",
      "metadata": {},
      "source": [
        "Build temperature and density poloidal profiles for the scrape-off layer.\n",
        "The output contains for lists for the four sectors: LFS lower divertor,\n",
        "LFS upper divertor, HFS lower divertor, HFS upper divertor"
      ]
    },
    {
      "cell_type": "code",
      "metadata": {},
      "source": [
        "t_and_n_sol_profiles = stsol.build_sol_profiles(fw_shape)"
      ],
      "outputs": [],
      "execution_count": null
    },
    {
      "cell_type": "markdown",
      "metadata": {},
      "source": [
        "Build radiation source profiles for the scrape-off layer.\n",
        "The output contains for lists for the four sectors."
      ]
    },
    {
      "cell_type": "code",
      "metadata": {},
      "source": [
        "rad_sector_profiles = stsol.build_sol_rad_distribution(*t_and_n_sol_profiles)"
      ],
      "outputs": [],
      "execution_count": null
    },
    {
      "cell_type": "markdown",
      "metadata": {},
      "source": [
        "Build 2D scrape-off layer radiation map"
      ]
    },
    {
      "cell_type": "code",
      "metadata": {},
      "source": [
        "stsol.build_sol_radiation_map(*rad_sector_profiles, fw_shape)"
      ],
      "outputs": [],
      "execution_count": null
    },
    {
      "cell_type": "markdown",
      "metadata": {},
      "source": [
        "Plot results"
      ]
    },
    {
      "cell_type": "code",
      "metadata": {},
      "source": [
        "plt.show()"
      ],
      "outputs": [],
      "execution_count": null
    }
  ],
  "metadata": {
    "anaconda-cloud": {},
    "kernelspec": {
      "display_name": "Python 3",
      "language": "python",
      "name": "python3"
    },
    "language_info": {
      "codemirror_mode": {
        "name": "ipython",
        "version": 3
      },
      "file_extension": ".py",
      "mimetype": "text/x-python",
      "name": "python",
      "nbconvert_exporter": "python",
      "pygments_lexer": "ipython3",
      "version": "3.8.10"
    }
  },
  "nbformat": 4,
  "nbformat_minor": 4
}
