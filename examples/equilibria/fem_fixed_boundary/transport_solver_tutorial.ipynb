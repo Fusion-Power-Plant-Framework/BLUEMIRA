{
 "cells": [
  {
   "cell_type": "markdown",
   "metadata": {},
   "source": [
    "\n",
    "# General imports"
   ]
  },
  {
   "cell_type": "code",
   "metadata": {},
   "source": [
    "import os\n",
    "\n",
    "from bluemira.base.config import Configuration\n",
    "from bluemira.base.file import get_bluemira_root\n",
    "from bluemira.base.logs import set_log_level\n",
    "from bluemira.equilibria.fem_fixed_boundary.transport_solver import (\n",
    "    PlasmodTransportSolver,\n",
    ")"
   ],
   "outputs": [],
   "execution_count": null
  },
  {
   "cell_type": "markdown",
   "metadata": {},
   "source": [
    "\n",
    "# A simple example to run Plasmod\n",
    "\n",
    "Define plasmod binary path"
   ]
  },
  {
   "cell_type": "code",
   "metadata": {},
   "source": [
    "set_log_level(\"DEBUG\")\n",
    "\n",
    "PLASMOD_PATH = PLASMOD_PATH = os.path.join(\n",
    "    os.path.split(get_bluemira_root())[:-1][0], \"plasmod/bin\"\n",
    ")\n",
    "binary = os.path.join(PLASMOD_PATH, \"plasmod\")"
   ],
   "outputs": [],
   "execution_count": null
  },
  {
   "cell_type": "markdown",
   "metadata": {},
   "source": [
    "\n",
    "Create the parameters and config dictionaries to instantiate plasmod"
   ]
  },
  {
   "cell_type": "code",
   "metadata": {},
   "source": [
    "new_params = {\n",
    "    \"A\": 3.3,\n",
    "    \"R_0\": 9.002,\n",
    "    \"I_p\": 19.75,\n",
    "    \"B_0\": 5.855,\n",
    "    \"V_p\": -2500,\n",
    "    \"v_burn\": -1.0e6,\n",
    "    \"kappa_95\": 1.652,\n",
    "    \"delta_95\": 0.333,\n",
    "    \"delta\": 0.38491934960310104,\n",
    "    \"kappa\": 1.6969830041844367,\n",
    "}\n",
    "\n",
    "params = Configuration(new_params)\n",
    "\n",
    "for param_name in params.keys():\n",
    "    if param_name in new_params:\n",
    "        param = params.get_param(param_name)\n",
    "        param.source = \"Plasmod Example\"\n",
    "\n",
    "build_config = {\n",
    "    \"binary\": binary,\n",
    "}"
   ],
   "outputs": [],
   "execution_count": null
  },
  {
   "cell_type": "markdown",
   "metadata": {},
   "source": [
    "\n",
    "Execute Plasmod"
   ]
  },
  {
   "cell_type": "code",
   "metadata": {},
   "source": [
    "plasmod_solver = PlasmodTransportSolver(\n",
    "    params=params,\n",
    "    build_config=build_config,\n",
    ")\n",
    "plasmod_solver.execute()"
   ],
   "outputs": [],
   "execution_count": null
  }
 ],
 "metadata": {
  "anaconda-cloud": {},
  "kernelspec": {
   "display_name": "Python 3",
   "language": "python",
   "name": "python3"
  },
  "language_info": {
   "codemirror_mode": {
    "name": "ipython",
    "version": 3
   },
   "file_extension": ".py",
   "mimetype": "text/x-python",
   "name": "python",
   "nbconvert_exporter": "python",
   "pygments_lexer": "ipython3",
   "version": "3.8.13"
  }
 },
 "nbformat": 4,
 "nbformat_minor": 4
}