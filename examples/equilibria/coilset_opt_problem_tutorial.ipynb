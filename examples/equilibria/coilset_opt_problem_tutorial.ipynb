{
  "cells": [
    {
      "cell_type": "markdown",
      "metadata": {},
      "source": [
        "\n",
        "# Introduction\n",
        "\n",
        "In this example, we will outline how to specify a CoilsetOptimisationProblem\n",
        "that specifies how an 'optimised' coilset state is found during the Free Boundary\n",
        "Equilibrium solve step.\n",
        "\n",
        "# Imports\n",
        "\n",
        "Import necessary Equilbrium module definitions."
      ]
    },
    {
      "cell_type": "code",
      "metadata": {},
      "source": [
        "import matplotlib.pyplot as plt\n",
        "import numpy as np\n",
        "\n",
        "import bluemira.equilibria.constraint_library as constraint_library\n",
        "import examples.equilibria.double_null_ST as double_null_ST\n",
        "from bluemira.equilibria.equilibrium import Equilibrium\n",
        "from bluemira.equilibria.opt_problems import BoundedCurrentCOP, UnconstrainedCurrentCOP\n",
        "from bluemira.equilibria.solve import DudsonConvergence, PicardCoilsetIterator\n",
        "from bluemira.utilities.opt_problems import OptimisationConstraint\n",
        "from bluemira.utilities.optimiser import Optimiser"
      ],
      "outputs": [],
      "execution_count": null
    },
    {
      "cell_type": "markdown",
      "metadata": {},
      "source": [
        "\n",
        "# OptimisationProblem\n",
        "\n",
        "The `OptimisationProblem` class is intended to be the general base class for defining optimisation\n",
        "problems across Bluemira.\n",
        "\n",
        "It is constructed from the following four objects:\n",
        "- `parameterisation`\n",
        "    - Object storing data that is updated during the optimisation to be carried out.\n",
        "- `optimiser: Optimiser`\n",
        "    - `Optimiser` object specifying the numerical algorithm used to optimise an array representing\n",
        "      the parameterisation state. Usually based on NLOpt.\n",
        "- `objective: OptimisationObjective`\n",
        "    - OptimisationObjective object, specifying objective function to be minimised during optimisation.\n",
        "- `constraints: List[OptimisationConstraint]`\n",
        "    - List of `OptimisationConstraints`, specifying the set of constraints that must be satisfied during\n",
        "      the numerical optimisation.\n",
        "\n",
        "\n",
        "The goal of the `OptimisationProblem` is to be able to return an optimised parameterisation, judged according to\n",
        "the provided objective, subject to the set of constraints, using a numerical search algorithm defined in the optimiser.\n",
        "\n",
        "Crucially, it provides an `optimise()` method that returns this optimised parameterisation. Subclasses may override\n",
        "this `optimise()` method, but must still return an optimised parametrisation when `optimise()` is called on the OptimisationProblem.\n",
        "\n",
        "A `CoilsetOP` is a subclass of `OptimisationProblem`, intended for problems where the\n",
        "parameterisation is a `CoilSet` object, which provides some useful additional methods for getting and\n",
        "setting coilset state vectors/arrays.\n",
        "\n",
        "Subclasses of `CoilsetOP`, such as `BoundedCurrentCOP` or `NestedCoilsetPositionCOP`, can be made to bind a `CoilsetOP` to a specific objective function,\n",
        "which is often useful for performance reasons where some data in the OptimisationProblem does not need to be updated at every iteration.\n",
        "\n",
        "# Example\n",
        "We will present an example problem where we take an existing `CoilsetOP`subclass, `BoundedCurrentCOP`,\n",
        "and apply some additional constraints that must be held during the optimisation.\n",
        "\n",
        "As the objective function for the `BoundedCurrentCOP` OptimisationProblem is already specified,\n",
        "we only need to provide the `coilset` (parameterisation), `Optimiser`, `OptimisationConstraints`, and any additional arguments\n",
        "that are used in the `BoundedCurrentCOP` objective function.\n",
        "\n",
        "### Parametrisation\n",
        "\n",
        "We first define the parameterisation to be used in the OptimisationProblem. This is just the starting `coilset`\n",
        "in this case."
      ]
    },
    {
      "cell_type": "code",
      "metadata": {},
      "source": [
        "coilset = double_null_ST.init_coilset()"
      ],
      "outputs": [],
      "execution_count": null
    },
    {
      "cell_type": "markdown",
      "metadata": {},
      "source": [
        "\n",
        "### Optimiser\n",
        "\n",
        "We next define the `Optimiser` to be used. There is no one-size-fits-all approach here, as the best\n",
        "optimiser for a given problem will depend strongly on the OptimisationObjective and OptimisationConstraints\n",
        "being applied in the problem.\n",
        "\n",
        "`Optimiser` is currently only a wrapper for NLOpt based optimisers, and as such, the range of algorithms\n",
        "that may be chosen is determined by those available in the NLOpt library.\n",
        "Not all algorithms will work for all objectives - some require gradient information, for example -\n",
        "and some require additional parameters. Check the NLOpt API documentation for more details.\n",
        "\n",
        "Care must also be taken to ensure the termination criteria for the optimisation are suitable.\n",
        "Otherwise, the optimisation may never stop running if tolerances are too tight, or may stop early\n",
        "and return poorly optimised states if the maximum number of evaluations is too low or tolerances\n",
        "are too large."
      ]
    },
    {
      "cell_type": "code",
      "metadata": {},
      "source": [
        "optimiser = Optimiser(\n",
        "    algorithm_name=\"COBYLA\",\n",
        "    opt_conditions={\"max_eval\": 200},\n",
        "    opt_parameters={\"initial_step\": 0.03},\n",
        ")"
      ],
      "outputs": [],
      "execution_count": null
    },
    {
      "cell_type": "markdown",
      "metadata": {},
      "source": [
        "\n",
        "### Constraints\n",
        "\n",
        "We next define the list of `OptimisationConstraints` to apply.\n",
        "In this case, we wish to apply a constraint to prevent solutions where the plasma boundary at\n",
        "the inboard midplane of the plasma is prevented from moving inside a provided radius.\n",
        "\n",
        "We will use `bluemira.equilibria.constraint_library.current_midplane_constraint`\n",
        "as our constraint function here to do this.\n",
        "\n",
        "```python\n",
        "def current_midplane_constraint(\n",
        "    constraint, vector, grad, opt_problem, radius, inboard=True\n",
        "):\n",
        "    \"\"\"\n",
        "    Constraint function to constrain the inboard or outboard midplane\n",
        "    of the plasma during optimisation.\n",
        "\n",
        "    Parameters\n",
        "    ----------\n",
        "    radius: float\n",
        "        Toroidal radius at which to constrain the plasma midplane.\n",
        "    inboard: bool (default=True)\n",
        "        Boolean controlling whether to constrain the inboard (if True) or\n",
        "        outboard (if False) side of the plasma midplane.\n",
        "    \"\"\"\n",
        "    coilset_state = np.concatenate((opt_problem.x0, opt_problem.z0, vector))\n",
        "    opt_problem.set_coilset_state(coilset_state)\n",
        "    lcfs = opt_problem.eq.get_LCFS()\n",
        "    if inboard:\n",
        "        constraint[:] = radius - min(lcfs.x)\n",
        "    else:\n",
        "        constraint[:] = max(lcfs.x) - radius\n",
        "    return constraint\n",
        "```\n",
        "\n",
        "The first three arguments here are expected by NLOpt, and must always be present in constraint functions.\n",
        "- constraint\n",
        "    - np.array storing constraint information. During the optimisation, `constraint[:]<=0` is considered\n",
        "      to represent the constraint being satisfied, and `constraint[:]>0` represents the constraint being\n",
        "      violated.\n",
        "- vector\n",
        "    - np.array representing the state vector that is optimised during the numerical optimisation.\n",
        "- grad\n",
        "    - np.array representing Jacobian for the constraint function. This must always be present in the arguments,\n",
        "      but only needs to be calculated if the `Optimiser` is employing an algorithm that requires derivative\n",
        "      information.\n",
        "\n",
        "The fourth, `opt_problem`, is optional, and provides an interface to the `OptimisationProblem` the constraint\n",
        "is applied to. This may be useful for performance reasons, where data needed by the `constraint` does not need to be updated every\n",
        "iteration of the optimisation. Where possible, explicit arguments should be provided to the `OptimisationProblem`, however\n",
        "\n",
        "The remaining arguments are explicit arguments that can be passed to the constraint to control its behaviour.\n",
        "\n",
        "This constraint function can be passed to a `OptimisationConstraint` object, along with explicit arguments,\n",
        "constraint tolerances, and constraint type, that is used by NLOpt when applying the constraint.\n",
        "\n",
        "User specified constraints can be supplied here, if so desired."
      ]
    },
    {
      "cell_type": "code",
      "metadata": {},
      "source": [
        "opt_constraints = [\n",
        "    OptimisationConstraint(\n",
        "        f_constraint=constraint_library.current_midplane_constraint,\n",
        "        f_constraint_args={\"radius\": 1.0},\n",
        "        tolerance=np.array([1e-4]),\n",
        "        constraint_type=\"inequality\",\n",
        "    )\n",
        "]"
      ],
      "outputs": [],
      "execution_count": null
    },
    {
      "cell_type": "markdown",
      "metadata": {},
      "source": [
        "\n",
        "### Additional parameters\n",
        "\n",
        "`BoundedCurrentCOP` requires two additional parameters for generating arguments for\n",
        "its `OptimisationObjective` during its `optimise()` call. The `OptimisationObjective`\n",
        "figure of merit for `BoundedCurrentCOP` is the regularised least-squares deviation of a\n",
        "provided Equilibrium from a set of magnetic field targets (eg. isoflux targets).\n",
        "\n",
        "We use a default set of isoflux targets here for this example."
      ]
    },
    {
      "cell_type": "code",
      "metadata": {},
      "source": [
        "magnetic_targets, magnetic_core_targets = double_null_ST.init_targets()"
      ],
      "outputs": [],
      "execution_count": null
    },
    {
      "cell_type": "markdown",
      "metadata": {},
      "source": [
        "\n",
        "We also specify an initial Equilibrium state to be used in the optimisation."
      ]
    },
    {
      "cell_type": "code",
      "metadata": {},
      "source": [
        "grid = double_null_ST.init_grid()\n",
        "profile = double_null_ST.init_profile()\n",
        "eq = Equilibrium(\n",
        "    coilset,\n",
        "    grid,\n",
        "    force_symmetry=True,\n",
        "    vcontrol=None,\n",
        "    psi=None,\n",
        "    profiles=profile,\n",
        "    Ip=16e6,\n",
        "    li=None,\n",
        ")"
      ],
      "outputs": [],
      "execution_count": null
    },
    {
      "cell_type": "markdown",
      "metadata": {},
      "source": [
        "\n",
        "We now have all the requirements to specify our `CoilsetOP`, and can now initialise it:"
      ]
    },
    {
      "cell_type": "code",
      "metadata": {},
      "source": [
        "opt_problem = BoundedCurrentCOP(\n",
        "    coilset,\n",
        "    eq,\n",
        "    magnetic_targets,\n",
        "    gamma=1e-8,\n",
        "    max_currents=3.0e7,\n",
        "    optimiser=optimiser,\n",
        "    opt_constraints=opt_constraints,\n",
        ")"
      ],
      "outputs": [],
      "execution_count": null
    },
    {
      "cell_type": "markdown",
      "metadata": {},
      "source": [
        "\n",
        "# Iterators\n",
        "\n",
        "The `CoilsetOP` is only used to optimise the coilset state at fixed plasma psi; the Grad-Shafranov\n",
        "equation for the plasma is not guaranteed to still be satisfied after the coilset state is optimised.\n",
        "\n",
        "Picard iteration is therefore used to find a self-consistent solution, employed by `Iterator` objects.\n",
        "`PicardCoilsetIterator` specifies a scheme in which a Grad-Shafranov iteration is used to update the plasma psi\n",
        "alternate with Coilset optimisation at fixed plasma psi until the psi converges for the `Equilbrium`."
      ]
    },
    {
      "cell_type": "code",
      "metadata": {},
      "source": [
        "constrained_iterator = PicardCoilsetIterator(\n",
        "    eq,\n",
        "    profile,\n",
        "    magnetic_core_targets,\n",
        "    opt_problem,\n",
        "    plot=False,\n",
        "    relaxation=0.3,\n",
        "    maxiter=400,\n",
        "    convergence=DudsonConvergence(1e-4),\n",
        ")"
      ],
      "outputs": [],
      "execution_count": null
    },
    {
      "cell_type": "markdown",
      "metadata": {},
      "source": [
        "\n",
        "However, a poor initial `Equilibrium` (with corresponding `coilset`) will lead to difficulties\n",
        "during the Picard iteration used to find a self-consistent solution. It is therefore useful to\n",
        "perform a coarser fast pre-optimisation to try find a self-consistent state within the basin of\n",
        "convergence of the full constrained `OptimisationProblem`."
      ]
    },
    {
      "cell_type": "code",
      "metadata": {},
      "source": [
        "unconstrained_cop = UnconstrainedCurrentCOP(eq.coilset, eq, magnetic_targets, gamma=1e-8)\n",
        "unconstrained_iterator = PicardCoilsetIterator(\n",
        "    eq,\n",
        "    profile,  # jetto\n",
        "    magnetic_core_targets,\n",
        "    unconstrained_cop,\n",
        "    plot=False,\n",
        "    relaxation=0.3,\n",
        "    convergence=DudsonConvergence(1e-2),\n",
        "    maxiter=400,\n",
        ")"
      ],
      "outputs": [],
      "execution_count": null
    },
    {
      "cell_type": "markdown",
      "metadata": {},
      "source": [
        "\n",
        "# FBE Optimisation\n",
        "We have now initialised the necessary objects to perform the optimisation of the `coilset` state.\n",
        "\n",
        "We first plot the initial `Equilibrium` state - as the initial coilset for this example has no current\n",
        "in the coils, it is predictably extremely poor!"
      ]
    },
    {
      "cell_type": "code",
      "metadata": {},
      "source": [
        "f, ax = plt.subplots()\n",
        "eq.plot(ax=ax)\n",
        "unconstrained_iterator.constraints.plot(ax=ax)"
      ],
      "outputs": [],
      "execution_count": null
    },
    {
      "cell_type": "markdown",
      "metadata": {},
      "source": [
        "\n",
        "### Pre-optimisation\n",
        "\n",
        "Constrained optimisation of this poor initial state would be difficult, as local optimisers\n",
        "would likely struggle to find the basin of convergence of the desired state.\n",
        "\n",
        "We therefore perform a fast pre-optimisation to get closer to a physical state that satisfies\n",
        "our constrained optimisation problem."
      ]
    },
    {
      "cell_type": "code",
      "metadata": {},
      "source": [
        "unconstrained_iterator()\n",
        "\n",
        "f, ax = plt.subplots()\n",
        "eq.plot(ax=ax)\n",
        "unconstrained_iterator.constraints.plot(ax=ax)\n",
        "plt.show()"
      ],
      "outputs": [],
      "execution_count": null
    },
    {
      "cell_type": "markdown",
      "metadata": {},
      "source": [
        "\n",
        "### Constrained Optimisation\n",
        "\n",
        "Now we have a better starting `Equilibrium` for our constrained optimisation scheme, we can apply\n",
        "it to try to find a solution that satisfies the optimisation problem including our additional constraints."
      ]
    },
    {
      "cell_type": "code",
      "metadata": {},
      "source": [
        "constrained_iterator()\n",
        "\n",
        "f, ax = plt.subplots()\n",
        "eq.plot(ax=ax)\n",
        "constrained_iterator.constraints.plot(ax=ax)\n",
        "plt.show()"
      ],
      "outputs": [],
      "execution_count": null
    }
  ],
  "metadata": {
    "anaconda-cloud": {},
    "kernelspec": {
      "display_name": "Python 3",
      "language": "python",
      "name": "python3"
    },
    "language_info": {
      "codemirror_mode": {
        "name": "ipython",
        "version": 3
      },
      "file_extension": ".py",
      "mimetype": "text/x-python",
      "name": "python",
      "nbconvert_exporter": "python",
      "pygments_lexer": "ipython3",
      "version": "3.8.12"
    }
  },
  "nbformat": 4,
  "nbformat_minor": 4
}
