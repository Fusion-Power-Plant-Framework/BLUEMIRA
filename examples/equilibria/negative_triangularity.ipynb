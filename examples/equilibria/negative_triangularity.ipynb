{
  "cells": [
    {
      "cell_type": "markdown",
      "metadata": {},
      "source": [
        "# Negative Triangularity example pulsed equilibrium problem"
      ]
    },
    {
      "cell_type": "code",
      "metadata": {},
      "source": [
        "from IPython import get_ipython\n",
        "import numpy as np\n",
        "import matplotlib.pyplot as plt\n",
        "from BLUEPRINT.base.lookandfeel import plot_defaults\n",
        "from BLUEPRINT.geometry.loop import Loop\n",
        "from BLUEPRINT.geometry.parameterisations import PictureFrame\n",
        "from BLUEPRINT.equilibria.run import AbInitioEquilibriumProblem\n",
        "from BLUEPRINT.equilibria.profiles import DoublePowerFunc\n",
        "\n",
        "try:\n",
        "    get_ipython().run_line_magic(\"matplotlib\", \"qt\")\n",
        "except AttributeError:\n",
        "    pass"
      ],
      "outputs": [],
      "execution_count": null
    },
    {
      "cell_type": "markdown",
      "metadata": {},
      "source": [
        "Set some plotting defaults"
      ]
    },
    {
      "cell_type": "code",
      "metadata": {},
      "source": [
        "plt.close(\"all\")\n",
        "plot_defaults()"
      ],
      "outputs": [],
      "execution_count": null
    },
    {
      "cell_type": "markdown",
      "metadata": {},
      "source": [
        "Make a TF coil shape and use it as an exclusion zone object"
      ]
    },
    {
      "cell_type": "code",
      "metadata": {},
      "source": [
        "TF = PictureFrame()\n",
        "TF.xo[\"x1\"] = {\"value\": 3.5, \"lb\": 3.5, \"ub\": 5}  # inner leg\n",
        "TF.xo[\"x2\"] = {\"value\": 16.2, \"lb\": 14, \"ub\": 20}  # outer leg\n",
        "TF.xo[\"r\"] = {\"value\": 2, \"lb\": 1.999, \"ub\": 2.001}  # Corner radius\n",
        "TF.xo[\"z1\"] = {\"value\": 9, \"lb\": 5, \"ub\": 15}  # Vertical height\n",
        "TF.xo[\"z2\"] = {\"value\": -9, \"lb\": -15, \"ub\": -3}  # vertical\n",
        "TF = Loop(**TF.draw())\n",
        "clip = np.where(TF.x >= 3.6)\n",
        "TF = Loop(TF.x[clip], z=TF.z[clip])"
      ],
      "outputs": [],
      "execution_count": null
    },
    {
      "cell_type": "markdown",
      "metadata": {},
      "source": [
        "Choose a flux function parameterisation (with some initial values)\n",
        "The shape function parameters will be optimised to meet the integral plasma\n",
        "parameters we specify later on"
      ]
    },
    {
      "cell_type": "code",
      "metadata": {},
      "source": [
        "profile = DoublePowerFunc([2, 2])"
      ],
      "outputs": [],
      "execution_count": null
    },
    {
      "cell_type": "markdown",
      "metadata": {},
      "source": [
        "Set up an equilibrium problem (a typical sized pulsed EU-DEMO like machine)\n",
        "\n",
        "eps BD opt 1e-3\n",
        "gamma FBI 1e-15"
      ]
    },
    {
      "cell_type": "code",
      "metadata": {},
      "source": [
        "NTT = AbInitioEquilibriumProblem(\n",
        "    R_0=8,\n",
        "    B_0=5.2,\n",
        "    A=3.2,\n",
        "    Ip=15e6,\n",
        "    betap=1.2,\n",
        "    li=0.8,\n",
        "    kappa=1.655,\n",
        "    delta=-0.3,\n",
        "    r_cs=2.6,\n",
        "    tk_cs=0.32,\n",
        "    tfbnd=TF,\n",
        "    n_PF=5,\n",
        "    n_CS=6,\n",
        "    eqtype=\"SN\",\n",
        "    rtype=\"Normal\",\n",
        "    profile=profile,\n",
        ")"
      ],
      "outputs": [],
      "execution_count": null
    },
    {
      "cell_type": "markdown",
      "metadata": {},
      "source": [
        "Do an initial solve"
      ]
    },
    {
      "cell_type": "code",
      "metadata": {},
      "source": [
        "eqref = NTT.solve(plot=True)"
      ],
      "outputs": [],
      "execution_count": null
    },
    {
      "cell_type": "markdown",
      "metadata": {},
      "source": [
        "Now let's optimise:\n",
        "*  positions of the PF coils\n",
        "*  currents of the PF and CS coils\n",
        "\n",
        "constraining:\n",
        "*  plasma shape\n",
        "*  plasma integral values (I_p, beta_p, l_i)\n",
        "*  coil positions         (L)\n",
        "*  coil currents          (I)\n",
        "*  coil forces            (F)\n",
        "*  field at coils         (B)\n",
        "*  pulse length           (tau_flattop)\n",
        "\n",
        "Define some exclusion zones"
      ]
    },
    {
      "cell_type": "code",
      "metadata": {},
      "source": [
        "UP = Loop(x=[6, 12, 12, 6, 6], z=[3, 3, 14.5, 14.5, 3])\n",
        "LP = Loop(x=[10, 10, 12, 22, 22, 10], z=[-6, -6, -11, -11, -6, -6])\n",
        "EQ = Loop(x=[14, 22, 22, 14, 14], z=[-1.4, -1.4, 1.4, 1.4, -1.4])"
      ],
      "outputs": [],
      "execution_count": null
    },
    {
      "cell_type": "markdown",
      "metadata": {},
      "source": [
        "Run the optimisation"
      ]
    },
    {
      "cell_type": "code",
      "metadata": {},
      "source": [
        "NTT.optimise_positions(\n",
        "    max_PF_current=1.5 * 15e6,\n",
        "    PF_Fz_max=350e6,\n",
        "    CS_Fz_sum=300e6,\n",
        "    CS_Fz_sep=250e6,\n",
        "    tau_flattop=1.1 * 3600,\n",
        "    v_burn=0.04,\n",
        "    psi_bd=None,  # will auto-calculate breakdown flux\n",
        "    pfcoiltrack=TF,\n",
        "    pf_exclusions=[LP, EQ, UP],\n",
        "    CS=False,\n",
        "    plot=True,\n",
        "    gif=False,\n",
        ")"
      ],
      "outputs": [],
      "execution_count": null
    },
    {
      "cell_type": "markdown",
      "metadata": {},
      "source": [
        "Generate a summary plot"
      ]
    },
    {
      "cell_type": "code",
      "metadata": {},
      "source": [
        "NTT.plot_summary()"
      ],
      "outputs": [],
      "execution_count": null
    },
    {
      "cell_type": "markdown",
      "metadata": {},
      "source": [
        "Let's have a look at the plasma over the pulse"
      ]
    },
    {
      "cell_type": "code",
      "metadata": {},
      "source": [
        "print(NTT.report())"
      ],
      "outputs": [],
      "execution_count": null
    },
    {
      "cell_type": "markdown",
      "metadata": {},
      "source": [
        "It doesn't look very good... we probably need some more PF coils in there.\n",
        "\n",
        "Or actually..! Fix the breakdown optimiser which I think is not doing a\n",
        "great job here :(\n",
        "\n",
        "Let's see what the optimisers have done"
      ]
    },
    {
      "cell_type": "code",
      "metadata": {},
      "source": [
        "NTT.opt_report()"
      ],
      "outputs": [],
      "execution_count": null
    }
  ],
  "metadata": {
    "anaconda-cloud": {},
    "kernelspec": {
      "display_name": "Python 3",
      "language": "python",
      "name": "python3"
    },
    "language_info": {
      "codemirror_mode": {
        "name": "ipython",
        "version": 3
      },
      "file_extension": ".py",
      "mimetype": "text/x-python",
      "name": "python",
      "nbconvert_exporter": "python",
      "pygments_lexer": "ipython3",
      "version": "3.6.9"
    }
  },
  "nbformat": 4,
  "nbformat_minor": 4
}