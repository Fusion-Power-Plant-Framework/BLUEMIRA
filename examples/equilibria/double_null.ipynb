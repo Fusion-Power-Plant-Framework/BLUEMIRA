{
  "cells": [
    {
      "cell_type": "markdown",
      "metadata": {},
      "source": [
        "# Double Null example pulsed equilibrium problem"
      ]
    },
    {
      "cell_type": "code",
      "metadata": {},
      "source": [
        "from IPython import get_ipython\n",
        "import numpy as np\n",
        "import matplotlib.pyplot as plt\n",
        "from BLUEPRINT.base.lookandfeel import plot_defaults\n",
        "from BLUEPRINT.geometry.loop import Loop\n",
        "from BLUEPRINT.geometry.parameterisations import flatD\n",
        "from BLUEPRINT.equilibria.run import AbInitioEquilibriumProblem\n",
        "from BLUEPRINT.equilibria.profiles import DoublePowerFunc\n",
        "\n",
        "try:\n",
        "    get_ipython().run_line_magic(\"matplotlib\", \"qt\")\n",
        "except AttributeError:\n",
        "    pass"
      ],
      "outputs": [],
      "execution_count": null
    },
    {
      "cell_type": "markdown",
      "metadata": {},
      "source": [
        "Set some plotting defaults"
      ]
    },
    {
      "cell_type": "code",
      "metadata": {},
      "source": [
        "plt.close(\"all\")\n",
        "plot_defaults()"
      ],
      "outputs": [],
      "execution_count": null
    },
    {
      "cell_type": "markdown",
      "metadata": {},
      "source": [
        "Build a basis function along which to optimise the positions of the PF coils"
      ]
    },
    {
      "cell_type": "code",
      "metadata": {},
      "source": [
        "TF = flatD(2.2, 14.2, 0.0, npoints=500)\n",
        "TF = Loop(**{\"x\": TF[0], \"z\": TF[1]})\n",
        "TF.interpolate(200)\n",
        "clip = np.where(TF.x >= 2.6)\n",
        "TF = Loop(TF.x[clip], z=TF.z[clip])"
      ],
      "outputs": [],
      "execution_count": null
    },
    {
      "cell_type": "markdown",
      "metadata": {},
      "source": [
        "Choose a plasma profile parameterisation (with initial values)"
      ]
    },
    {
      "cell_type": "code",
      "metadata": {},
      "source": [
        "profile = DoublePowerFunc([2, 2])"
      ],
      "outputs": [],
      "execution_count": null
    },
    {
      "cell_type": "markdown",
      "metadata": {},
      "source": [
        "Set up the equilibrium problem"
      ]
    },
    {
      "cell_type": "code",
      "metadata": {},
      "source": [
        "DN = AbInitioEquilibriumProblem(\n",
        "    R_0=6.8,\n",
        "    B_0=5.2,\n",
        "    A=2,\n",
        "    Ip=14e6,\n",
        "    betap=0.7,\n",
        "    li=0.7,\n",
        "    kappa=1.7,\n",
        "    delta=0.3,\n",
        "    r_cs=1.555,\n",
        "    tk_cs=0.3,\n",
        "    tfbnd=TF,\n",
        "    n_PF=6,\n",
        "    n_CS=7,\n",
        "    eqtype=\"DN\",\n",
        "    rtype=\"Normal\",\n",
        "    profile=profile,\n",
        ")"
      ],
      "outputs": [],
      "execution_count": null
    },
    {
      "cell_type": "markdown",
      "metadata": {},
      "source": [
        "Let's assign some materials to the PF and CS coils"
      ]
    },
    {
      "cell_type": "code",
      "metadata": {},
      "source": [
        "DN.coilset.assign_coil_materials(\"PF\", \"NbTi\")\n",
        "DN.coilset.assign_coil_materials(\"CS\", \"Nb3Sn\")"
      ],
      "outputs": [],
      "execution_count": null
    },
    {
      "cell_type": "markdown",
      "metadata": {},
      "source": [
        "Do an initial solve with unconstrained coils"
      ]
    },
    {
      "cell_type": "code",
      "metadata": {},
      "source": [
        "eqref = DN.solve()"
      ],
      "outputs": [],
      "execution_count": null
    },
    {
      "cell_type": "markdown",
      "metadata": {},
      "source": [
        "Carry out an initial breakdown optimisation (to determine the flux we can\n",
        "have at the start of flat-top)\n",
        "\n",
        "The maximum fields are implicitly specified in the coil materials we assigned\n",
        "The maximum currents are specified for the CS coils by their size, and for\n",
        "the PF coils it doesn't matter right now: we need to determine the breakdown\n",
        "flux.\n",
        "\n",
        "We do however need to specify some force constraints..."
      ]
    },
    {
      "cell_type": "code",
      "metadata": {},
      "source": [
        "PF_Fz_max = 300e6\n",
        "CS_Fz_sum = 250e6\n",
        "CS_Fz_sep = 200e6\n",
        "\n",
        "DN.breakdown(PF_Fz_max=PF_Fz_max, CS_Fz_sum=CS_Fz_sum, CS_Fz_sep=CS_Fz_sep)\n",
        "\n",
        "psi_at_breakdown = DN.psi_bd"
      ],
      "outputs": [],
      "execution_count": null
    },
    {
      "cell_type": "markdown",
      "metadata": {},
      "source": [
        "Alright now we want to optimise the positions of the PF coils.. over a given\n",
        "pulse length, and with some position constraints\n",
        "\n",
        "Set up some exclusions zones for the PF coils\n",
        "\n",
        "## Upper port"
      ]
    },
    {
      "cell_type": "code",
      "metadata": {},
      "source": [
        "UP = Loop(x=[4, 9.4, 9.4, 4, 4], z=[3, 3, 14.5, 14.5, 3])"
      ],
      "outputs": [],
      "execution_count": null
    },
    {
      "cell_type": "markdown",
      "metadata": {},
      "source": [
        "## Lower port"
      ]
    },
    {
      "cell_type": "code",
      "metadata": {},
      "source": [
        "LP = Loop(x=[6, 6, 14, 14, 6], z=[-4, -6.6, -6.6, -4, -4])\n",
        "LP.translate([0, 0, -1])"
      ],
      "outputs": [],
      "execution_count": null
    },
    {
      "cell_type": "markdown",
      "metadata": {},
      "source": [
        "## Equatorial port"
      ]
    },
    {
      "cell_type": "code",
      "metadata": {},
      "source": [
        "EQ = Loop(x=[4, 16, 16, 4, 4], z=[-1.5, -1.5, 1.5, 1.5, -1.5])"
      ],
      "outputs": [],
      "execution_count": null
    },
    {
      "cell_type": "markdown",
      "metadata": {},
      "source": [
        "Run the optimisation"
      ]
    },
    {
      "cell_type": "code",
      "metadata": {},
      "source": [
        "DN.optimise_positions(\n",
        "    max_PF_current=1.5 * 14e6,\n",
        "    PF_Fz_max=PF_Fz_max,\n",
        "    CS_Fz_sum=CS_Fz_sum,\n",
        "    CS_Fz_sep=CS_Fz_sep,\n",
        "    tau_flattop=0.5 * 3600,  # [s]\n",
        "    v_burn=0.015,  # [V]\n",
        "    psi_bd=psi_at_breakdown,\n",
        "    pfcoiltrack=TF,\n",
        "    pf_exclusions=[LP, EQ, UP],\n",
        "    CS=False,\n",
        "    plot=True,\n",
        "    gif=False,\n",
        ")"
      ],
      "outputs": [],
      "execution_count": null
    },
    {
      "cell_type": "markdown",
      "metadata": {},
      "source": [
        "Generate a summary plot"
      ]
    },
    {
      "cell_type": "code",
      "metadata": {},
      "source": [
        "DN.plot_summary()\n",
        "plt.show()"
      ],
      "outputs": [],
      "execution_count": null
    }
  ],
  "metadata": {
    "anaconda-cloud": {},
    "kernelspec": {
      "display_name": "Python 3",
      "language": "python",
      "name": "python3"
    },
    "language_info": {
      "codemirror_mode": {
        "name": "ipython",
        "version": 3
      },
      "file_extension": ".py",
      "mimetype": "text/x-python",
      "name": "python",
      "nbconvert_exporter": "python",
      "pygments_lexer": "ipython3",
      "version": "3.6.9"
    }
  },
  "nbformat": 4,
  "nbformat_minor": 4
}