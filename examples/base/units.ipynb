{
  "cells": [
    {
      "cell_type": "markdown",
      "metadata": {},
      "source": [
        "# Unit conversion in bluemira\n",
        "The mechanics of the unit system in bluemira are fairly staight forward\n",
        "It aims to provide a useful user interface to convert units\n",
        "internally in most situations the units are up to the developer"
      ]
    },
    {
      "cell_type": "code",
      "metadata": {},
      "source": [
        "from dataclasses import dataclass\n",
        "\n",
        "from pint.errors import DimensionalityError\n",
        "\n",
        "import bluemira.base.constants as const\n",
        "from bluemira.base.parameter_frame import Parameter, ParameterFrame"
      ],
      "outputs": [],
      "execution_count": null
    },
    {
      "cell_type": "markdown",
      "metadata": {},
      "source": [
        "## Raw conversion"
      ]
    },
    {
      "cell_type": "code",
      "metadata": {},
      "source": [
        "print(const.raw_uc(1, \"um^3\", \"m^3\"))\n",
        "# gas flow rate conversion @OdegC\n",
        "print(const.raw_uc(1, \"mol/s\", \"Pa m^3/s\"))\n",
        "print(const.gas_flow_uc(1, \"mol/s\", \"Pa m^3/s\"))\n",
        "# gas flow rate conversion @25degC\n",
        "print(const.gas_flow_uc(1, \"mol/s\", \"Pa m^3/s\", gas_flow_temperature=298.15))\n",
        "# boltzmann constant conversion\n",
        "print(const.raw_uc(1, \"eV\", \"K\"))"
      ],
      "outputs": [],
      "execution_count": null
    },
    {
      "cell_type": "markdown",
      "metadata": {},
      "source": [
        "## Raw Temperature conversion with checks"
      ]
    },
    {
      "cell_type": "code",
      "metadata": {},
      "source": [
        "try:\n",
        "    const.to_kelvin(-300)\n",
        "except ValueError as v:\n",
        "    print(v)\n",
        "\n",
        "print(const.to_celsius(10, unit=\"rankine\"))"
      ],
      "outputs": [],
      "execution_count": null
    },
    {
      "cell_type": "markdown",
      "metadata": {},
      "source": [
        "## Parameters and Units\n",
        "First I make a small ParameterFrame"
      ]
    },
    {
      "cell_type": "code",
      "metadata": {},
      "source": [
        "@dataclass\n",
        "class MyParameterFrame(ParameterFrame):\n",
        "    \"\"\"A ParameterFrame\"\"\"\n",
        "\n",
        "    A: Parameter[float]\n",
        "\n",
        "\n",
        "mypf = MyParameterFrame.from_dict({\"A\": {\"value\": 5, \"unit\": \"\"}})\n",
        "mypf2 = MyParameterFrame.from_dict({\"A\": {\"value\": 5, \"unit\": \"\"}})\n",
        "\n",
        "print(mypf)\n",
        "print(mypf2)\n",
        "# Both frames equal\n",
        "assert mypf == mypf2  # noqa: S101"
      ],
      "outputs": [],
      "execution_count": null
    },
    {
      "cell_type": "markdown",
      "metadata": {},
      "source": [
        "Trying to set a unit with the wrong dimension"
      ]
    },
    {
      "cell_type": "code",
      "metadata": {},
      "source": [
        "mydiffval = MyParameterFrame.from_dict({\"A\": {\"value\": 6, \"unit\": \"m\"}})\n",
        "\n",
        "try:\n",
        "    mypf.update_from_frame(mydiffval)\n",
        "except DimensionalityError as de:\n",
        "    print(de)"
      ],
      "outputs": [],
      "execution_count": null
    },
    {
      "cell_type": "markdown",
      "metadata": {},
      "source": [
        "Changing a value of a parameter with a compatible but different unit"
      ]
    },
    {
      "cell_type": "code",
      "metadata": {},
      "source": [
        "mypf.update_values({\"A\": {\"value\": 6, \"unit\": \"\"}})\n",
        "\n",
        "print(mypf)"
      ],
      "outputs": [],
      "execution_count": null
    }
  ],
  "metadata": {
    "anaconda-cloud": {},
    "kernelspec": {
      "display_name": "Python 3",
      "language": "python",
      "name": "python3"
    },
    "language_info": {
      "codemirror_mode": {
        "name": "ipython",
        "version": 3
      },
      "file_extension": ".py",
      "mimetype": "text/x-python",
      "name": "python",
      "nbconvert_exporter": "python",
      "pygments_lexer": "ipython3",
      "version": "3.8.13"
    }
  },
  "nbformat": 4,
  "nbformat_minor": 4
}
