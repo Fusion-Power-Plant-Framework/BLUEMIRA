{
  "cells": [
    {
      "cell_type": "markdown",
      "metadata": {},
      "source": [
        "## Raw conversion\n",
        "\n",
        "In some situations it may be useful to convert a raw value to a different unit.\n",
        "It is recommended that all conversions,\n",
        "however simple, are made using `bluemira.constants.raw_uc`.\n",
        "This is how all unit conversions are performed internally.\n",
        "\n",
        "Using `raw_uc` makes it less likely bugs would be introduced in the event of a\n",
        "base unit change."
      ]
    },
    {
      "cell_type": "code",
      "metadata": {},
      "source": [
        "import bluemira.base.constants as const"
      ],
      "outputs": [],
      "execution_count": null
    },
    {
      "cell_type": "code",
      "metadata": {},
      "source": [
        "print(const.raw_uc(1, \"um^3\", \"m^3\"))\n",
        "# gas flow rate conversion @OdegC\n",
        "print(const.raw_uc(1, \"mol/s\", \"Pa m^3/s\"))\n",
        "print(const.gas_flow_uc(1, \"mol/s\", \"Pa m^3/s\"))\n",
        "# gas flow rate conversion @25degC\n",
        "print(const.gas_flow_uc(1, \"mol/s\", \"Pa m^3/s\", gas_flow_temperature=298.15))\n",
        "# boltzmann constant conversion\n",
        "print(const.raw_uc(1, \"eV\", \"K\"))"
      ],
      "outputs": [],
      "execution_count": null
    },
    {
      "cell_type": "markdown",
      "metadata": {},
      "source": [
        "## Raw Temperature conversion with checks from different units\n",
        "The explicit temperature conversion routines guard against temperatures\n",
        "below absolute zero"
      ]
    },
    {
      "cell_type": "code",
      "metadata": {},
      "source": [
        "try:\n",
        "    const.to_kelvin(-300)\n",
        "except ValueError as v:\n",
        "    print(v)\n",
        "\n",
        "print(const.to_celsius(10, unit=\"rankine\"))"
      ],
      "outputs": [],
      "execution_count": null
    }
  ],
  "metadata": {
    "anaconda-cloud": {},
    "kernelspec": {
      "display_name": "Python 3",
      "language": "python",
      "name": "python3"
    },
    "language_info": {
      "codemirror_mode": {
        "name": "ipython",
        "version": 3
      },
      "file_extension": ".py",
      "mimetype": "text/x-python",
      "name": "python",
      "nbconvert_exporter": "python",
      "pygments_lexer": "ipython3",
      "version": "3.8.13"
    }
  },
  "nbformat": 4,
  "nbformat_minor": 4
}
