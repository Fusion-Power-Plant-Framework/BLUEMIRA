{
 "cells": [
  {
   "cell_type": "markdown",
   "metadata": {},
   "source": [
    "# Unit conversion in bluemira\n",
    "The mechanics of the unit system in bluemira are fairly staight forward\n",
    "It aims to provide a useful user interface to convert units\n",
    "internally in most situations the units are up to the developer"
   ]
  },
  {
   "cell_type": "code",
   "execution_count": 1,
   "metadata": {},
   "outputs": [],
   "source": [
    "from dataclasses import dataclass\n",
    "\n",
    "from pint.errors import DimensionalityError\n",
    "\n",
    "import bluemira.base.constants as const\n",
    "from bluemira.base.parameter_frame import Parameter, ParameterFrame, parameter_frame"
   ]
  },
  {
   "cell_type": "markdown",
   "metadata": {},
   "source": [
    "## Raw conversion"
   ]
  },
  {
   "cell_type": "code",
   "execution_count": 2,
   "metadata": {},
   "outputs": [
    {
     "name": "stdout",
     "output_type": "stream",
     "text": [
      "9.999999999999999e-19\n",
      "2271.0954641485578\n",
      "2271.0954641485578\n",
      "2478.9570296023885\n",
      "11604.518121550082\n"
     ]
    }
   ],
   "source": [
    "print(const.raw_uc(1, \"um^3\", \"m^3\"))\n",
    "# gas flow rate conversion @OdegC\n",
    "print(const.raw_uc(1, \"mol/s\", \"Pa m^3/s\"))\n",
    "print(const.gas_flow_uc(1, \"mol/s\", \"Pa m^3/s\"))\n",
    "# gas flow rate conversion @25degC\n",
    "print(const.gas_flow_uc(1, \"mol/s\", \"Pa m^3/s\", gas_flow_temperature=298.15))\n",
    "# boltzmann constant conversion\n",
    "print(const.raw_uc(1, \"eV\", \"K\"))"
   ]
  },
  {
   "cell_type": "markdown",
   "metadata": {},
   "source": [
    "## Raw Temperature conversion with checks"
   ]
  },
  {
   "cell_type": "code",
   "execution_count": 3,
   "metadata": {},
   "outputs": [
    {
     "name": "stdout",
     "output_type": "stream",
     "text": [
      "Negative temperature in K specified.\n",
      "-267.59444444444443\n"
     ]
    }
   ],
   "source": [
    "try:\n",
    "    const.to_kelvin(-300)\n",
    "except ValueError as v:\n",
    "    print(v)\n",
    "\n",
    "print(const.to_celsius(10, unit=\"rankine\"))"
   ]
  },
  {
   "cell_type": "markdown",
   "metadata": {},
   "source": [
    "## Parameters and Units\n",
    "First I make a small ParameterFrame"
   ]
  },
  {
   "cell_type": "code",
   "execution_count": 4,
   "metadata": {},
   "outputs": [
    {
     "name": "stdout",
     "output_type": "stream",
     "text": [
      "╒════════╤═════════╤═══════════════╤══════════╤═══════════════╤═════════════╕\n",
      "│ name   │   value │ unit          │ source   │ description   │ long_name   │\n",
      "╞════════╪═════════╪═══════════════╪══════════╪═══════════════╪═════════════╡\n",
      "│ A      │       5 │ dimensionless │ N/A      │ N/A           │ N/A         │\n",
      "╘════════╧═════════╧═══════════════╧══════════╧═══════════════╧═════════════╛\n",
      "╒════════╤═════════╤═══════════════╤══════════╤═══════════════╤═════════════╕\n",
      "│ name   │   value │ unit          │ source   │ description   │ long_name   │\n",
      "╞════════╪═════════╪═══════════════╪══════════╪═══════════════╪═════════════╡\n",
      "│ A      │       5 │ dimensionless │ N/A      │ N/A           │ N/A         │\n",
      "╘════════╧═════════╧═══════════════╧══════════╧═══════════════╧═════════════╛\n"
     ]
    }
   ],
   "source": [
    "@dataclass\n",
    "class MyParameterFrame(ParameterFrame):\n",
    "    \"\"\"A ParameterFrame\"\"\"\n",
    "\n",
    "    A: Parameter[float]\n",
    "\n",
    "\n",
    "# this works the same\n",
    "@parameter_frame\n",
    "class MyDecoratedFrame:\n",
    "    \"\"\"A ParameterFrame made with a decorator\"\"\"\n",
    "\n",
    "    A: Parameter[float]\n",
    "\n",
    "\n",
    "mypf = MyParameterFrame.from_dict({\"A\": {\"value\": 5, \"unit\": \"\"}})\n",
    "mydecpf = MyDecoratedFrame.from_dict({\"A\": {\"value\": 5, \"unit\": \"\"}})\n",
    "\n",
    "print(mypf)\n",
    "print(mydecpf)\n",
    "# Both frames equal\n",
    "assert all([dparam == param for dparam, param in zip(mydecpf, mypf)])  # noqa: S101"
   ]
  },
  {
   "cell_type": "markdown",
   "metadata": {},
   "source": [
    "Trying to set a unit with the wrong dimension"
   ]
  },
  {
   "cell_type": "code",
   "execution_count": 7,
   "metadata": {},
   "outputs": [],
   "source": [
    "mypf2 = MyParameterFrame.from_dict({\"A\": {\"value\": 5, \"unit\": \"\"}})"
   ]
  },
  {
   "cell_type": "code",
   "execution_count": 8,
   "metadata": {},
   "outputs": [
    {
     "data": {
      "text/plain": [
       "True"
      ]
     },
     "execution_count": 8,
     "metadata": {},
     "output_type": "execute_result"
    }
   ],
   "source": [
    "mypf == mypf2"
   ]
  },
  {
   "cell_type": "code",
   "execution_count": null,
   "metadata": {},
   "outputs": [],
   "source": [
    "mydiffval = MyDecoratedFrame.from_dict({\"A\": {\"value\": 6, \"unit\": \"m\"}})\n",
    "\n",
    "try:\n",
    "    mypf.update_from_frame(mydiffval)\n",
    "except DimensionalityError as de:\n",
    "    print(de)"
   ]
  },
  {
   "cell_type": "markdown",
   "metadata": {},
   "source": [
    "Changing a value of a parameter with a compatible but different unit"
   ]
  },
  {
   "cell_type": "code",
   "execution_count": null,
   "metadata": {},
   "outputs": [],
   "source": [
    "mypf.update_values({\"A\": {\"value\": 6, \"unit\": \"\"}})\n",
    "\n",
    "print(mypf)"
   ]
  }
 ],
 "metadata": {
  "anaconda-cloud": {},
  "kernelspec": {
   "display_name": "Python 3 (ipykernel)",
   "language": "python",
   "name": "python3"
  },
  "language_info": {
   "codemirror_mode": {
    "name": "ipython",
    "version": 3
   },
   "file_extension": ".py",
   "mimetype": "text/x-python",
   "name": "python",
   "nbconvert_exporter": "python",
   "pygments_lexer": "ipython3",
   "version": "3.8.13"
  }
 },
 "nbformat": 4,
 "nbformat_minor": 4
}
