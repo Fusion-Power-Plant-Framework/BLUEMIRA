{
  "cells": [
    {
      "cell_type": "markdown",
      "metadata": {},
      "source": [
        "# Parameters and ParameterFrames in bluemira\n",
        "`Parameters` and `ParameterFrames` are the mechanism bluemira uses to contain\n",
        "metadata about a given value.\n",
        "Each `Parameter` must have a unit associated with the value and can have a\n",
        "source, description and long_name.\n",
        "\n",
        "The mechanics of the unit system in bluemira are fairly staight forward\n",
        "It provides an implicit interface to convert units to the base units of bluemira."
      ]
    },
    {
      "cell_type": "code",
      "metadata": {},
      "source": [
        "from dataclasses import dataclass\n",
        "\n",
        "from pint.errors import DimensionalityError\n",
        "\n",
        "import bluemira.base.constants as const\n",
        "from bluemira.base.parameter_frame import Parameter, ParameterFrame"
      ],
      "outputs": [],
      "execution_count": null
    },
    {
      "cell_type": "markdown",
      "metadata": {},
      "source": [
        "## Parameters and Units\n",
        "First I make a small ParameterFrame and compare the two methods of creating a frame"
      ]
    },
    {
      "cell_type": "code",
      "metadata": {},
      "source": [
        "@dataclass\n",
        "class MyParameterFrame(ParameterFrame):\n",
        "    \"\"\"A ParameterFrame\"\"\"\n",
        "\n",
        "    R_0: Parameter[float]\n",
        "    A: Parameter[float]\n",
        "\n",
        "\n",
        "mypf = MyParameterFrame.from_dict(\n",
        "    {\"A\": {\"value\": 5, \"unit\": \"\"}, \"R_0\": {\"value\": 8, \"unit\": \"m\"}}\n",
        ")\n",
        "mypf2 = MyParameterFrame.from_dict(\n",
        "    {\"A\": {\"value\": 5, \"unit\": \"\"}, \"R_0\": {\"value\": 8, \"unit\": \"m\"}}\n",
        ")\n",
        "\n",
        "print(mypf)\n",
        "print(mypf2)\n",
        "# Both frames equal\n",
        "assert mypf == mypf2  # noqa: S101"
      ],
      "outputs": [],
      "execution_count": null
    },
    {
      "cell_type": "markdown",
      "metadata": {},
      "source": [
        "Trying to set a unit with the wrong dimension"
      ]
    },
    {
      "cell_type": "code",
      "metadata": {},
      "source": [
        "mydiffval = MyParameterFrame.from_dict(\n",
        "    {\"A\": {\"value\": 6, \"unit\": \"m\"}, \"R_0\": {\"value\": 8, \"unit\": \"m\"}}\n",
        ")\n",
        "\n",
        "try:\n",
        "    mypf.update_from_frame(mydiffval)\n",
        "except DimensionalityError as de:\n",
        "    print(de)"
      ],
      "outputs": [],
      "execution_count": null
    },
    {
      "cell_type": "markdown",
      "metadata": {},
      "source": [
        "Changing a value of a parameter with a compatible but different unit"
      ]
    },
    {
      "cell_type": "code",
      "metadata": {},
      "source": [
        "mypf.update_values({\"R_0\": {\"value\": 6000, \"unit\": \"mm\"}})\n",
        "\n",
        "print(mypf)"
      ],
      "outputs": [],
      "execution_count": null
    },
    {
      "cell_type": "markdown",
      "metadata": {},
      "source": [
        "\n",
        "Accessing the value of a parameter in a different unit"
      ]
    },
    {
      "cell_type": "code",
      "metadata": {},
      "source": [
        "print(mypf.R_0.value_as(\"cm\"))  # 600"
      ],
      "outputs": [],
      "execution_count": null
    },
    {
      "cell_type": "markdown",
      "metadata": {},
      "source": [
        "## Raw conversion\n",
        "\n",
        "In some situations it may be useful to convert a raw value to a different unit.\n",
        "It is recommended (and enforced within bluemira core) that all conversions however\n",
        "simplistic are converted this way.\n",
        "\n",
        "Any possible future base unit changes can be achieved by searching for a given unit."
      ]
    },
    {
      "cell_type": "code",
      "metadata": {},
      "source": [
        "print(const.raw_uc(1, \"um^3\", \"m^3\"))\n",
        "# gas flow rate conversion @OdegC\n",
        "print(const.raw_uc(1, \"mol/s\", \"Pa m^3/s\"))\n",
        "print(const.gas_flow_uc(1, \"mol/s\", \"Pa m^3/s\"))\n",
        "# gas flow rate conversion @25degC\n",
        "print(const.gas_flow_uc(1, \"mol/s\", \"Pa m^3/s\", gas_flow_temperature=298.15))\n",
        "# boltzmann constant conversion\n",
        "print(const.raw_uc(1, \"eV\", \"K\"))"
      ],
      "outputs": [],
      "execution_count": null
    },
    {
      "cell_type": "markdown",
      "metadata": {},
      "source": [
        "## Raw Temperature conversion with checks from different units"
      ]
    },
    {
      "cell_type": "code",
      "metadata": {},
      "source": [
        "try:\n",
        "    const.to_kelvin(-300)\n",
        "except ValueError as v:\n",
        "    print(v)\n",
        "\n",
        "print(const.to_celsius(10, unit=\"rankine\"))"
      ],
      "outputs": [],
      "execution_count": null
    }
  ],
  "metadata": {
    "anaconda-cloud": {},
    "kernelspec": {
      "display_name": "Python 3",
      "language": "python",
      "name": "python3"
    },
    "language_info": {
      "codemirror_mode": {
        "name": "ipython",
        "version": 3
      },
      "file_extension": ".py",
      "mimetype": "text/x-python",
      "name": "python",
      "nbconvert_exporter": "python",
      "pygments_lexer": "ipython3",
      "version": "3.8.13"
    }
  },
  "nbformat": 4,
  "nbformat_minor": 4
}
