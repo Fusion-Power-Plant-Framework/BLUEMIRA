{
  "cells": [
    {
      "cell_type": "markdown",
      "metadata": {},
      "source": [
        "# Parameters and ParameterFrames in bluemira\n",
        "`Parameters` and `ParameterFrames` are the mechanism bluemira uses to contain\n",
        "metadata about a given value.\n",
        "Each `Parameter` must have a unit associated with the value and can have a\n",
        "source, description and long_name.\n",
        "\n",
        "The mechanics of the unit system in bluemira are fairly staight forward\n",
        "It provides an implicit interface to convert units to the\n",
        "[base units of bluemira](\n",
        "https://bluemira.readthedocs.io/en/latest/conventions.html#unit-convention)."
      ]
    },
    {
      "cell_type": "code",
      "metadata": {},
      "source": [
        "from dataclasses import dataclass\n",
        "\n",
        "from pint.errors import DimensionalityError\n",
        "\n",
        "from bluemira.base.parameter_frame import Parameter, ParameterFrame"
      ],
      "outputs": [],
      "execution_count": null
    },
    {
      "cell_type": "markdown",
      "metadata": {},
      "source": [
        "## Parameters and Units\n",
        "First, I make a small `ParameterFrame` and compare the two methods of creating it."
      ]
    },
    {
      "cell_type": "code",
      "metadata": {},
      "source": [
        "@dataclass\n",
        "class MyParameterFrame(ParameterFrame):\n",
        "    \"\"\"A ParameterFrame\"\"\"\n",
        "\n",
        "    R_0: Parameter[float]\n",
        "    A: Parameter[float]\n",
        "\n",
        "\n",
        "# the unit \"\" is equivalent to \"dimensionless\"\n",
        "mypf = MyParameterFrame.from_dict(\n",
        "    {\"A\": {\"value\": 5, \"unit\": \"\"}, \"R_0\": {\"value\": 8, \"unit\": \"m\"}}\n",
        ")\n",
        "mypf2 = MyParameterFrame.from_dict(\n",
        "    {\"A\": {\"value\": 5, \"unit\": \"\"}, \"R_0\": {\"value\": 8, \"unit\": \"m\"}}\n",
        ")\n",
        "\n",
        "print(mypf)\n",
        "print(mypf2)\n",
        "# Both frames equal\n",
        "assert mypf == mypf2  # noqa: S101"
      ],
      "outputs": [],
      "execution_count": null
    },
    {
      "cell_type": "markdown",
      "metadata": {},
      "source": [
        "Trying to set a unit with the wrong dimension"
      ]
    },
    {
      "cell_type": "code",
      "metadata": {},
      "source": [
        "mydiffval = MyParameterFrame.from_dict(\n",
        "    {\"A\": {\"value\": 6, \"unit\": \"m\"}, \"R_0\": {\"value\": 8, \"unit\": \"m\"}}\n",
        ")\n",
        "\n",
        "try:\n",
        "    mypf.update_from_frame(mydiffval)\n",
        "except DimensionalityError as de:\n",
        "    print(de)"
      ],
      "outputs": [],
      "execution_count": null
    },
    {
      "cell_type": "markdown",
      "metadata": {},
      "source": [
        "Changing a value of a parameter with a compatible but different unit"
      ]
    },
    {
      "cell_type": "code",
      "metadata": {},
      "source": [
        "mypf.update_from_dict({\"R_0\": {\"value\": 6000, \"unit\": \"mm\"}})\n",
        "\n",
        "print(mypf)"
      ],
      "outputs": [],
      "execution_count": null
    },
    {
      "cell_type": "markdown",
      "metadata": {},
      "source": [
        "\n",
        "Accessing the value of a parameter in a different unit"
      ]
    },
    {
      "cell_type": "code",
      "metadata": {},
      "source": [
        "print(mypf.R_0.value_as(\"cm\"))  # 600"
      ],
      "outputs": [],
      "execution_count": null
    }
  ],
  "metadata": {
    "anaconda-cloud": {},
    "kernelspec": {
      "display_name": "Python 3",
      "language": "python",
      "name": "python3"
    },
    "language_info": {
      "codemirror_mode": {
        "name": "ipython",
        "version": 3
      },
      "file_extension": ".py",
      "mimetype": "text/x-python",
      "name": "python",
      "nbconvert_exporter": "python",
      "pygments_lexer": "ipython3",
      "version": "3.8.13"
    }
  },
  "nbformat": 4,
  "nbformat_minor": 4
}
