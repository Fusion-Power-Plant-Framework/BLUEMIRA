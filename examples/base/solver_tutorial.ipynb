{
  "cells": [
    {
      "cell_type": "markdown",
      "metadata": {},
      "source": [
        "# Writing a Solver"
      ]
    },
    {
      "cell_type": "markdown",
      "metadata": {},
      "source": [
        "Bluemira provides an interface to write a general solver that performs\n",
        "a setup, run, and teardown stage.\n",
        "Bluemira can run these solvers during design stages.\n",
        "\n",
        "To define a solver, inherit from `SolverABC` and implement the interface.\n",
        "As an example, let's implement a solver to remove noise from a gaussian curve.\n",
        "We use `scipy` to fit a gaussian to some noisy data,\n",
        "then evaluate the fitting parameters to return a smooth curve."
      ]
    },
    {
      "cell_type": "code",
      "metadata": {},
      "source": [
        "import enum\n",
        "from typing import Any, Dict\n",
        "\n",
        "import matplotlib.pyplot as plt\n",
        "import numpy as np\n",
        "from scipy.optimize import curve_fit\n",
        "\n",
        "from bluemira.base.solver import RunMode, SolverABC, Task"
      ],
      "outputs": [],
      "execution_count": null
    },
    {
      "cell_type": "markdown",
      "metadata": {},
      "source": [
        "Let's generate some noisy (Gaussian) data to use in the example."
      ]
    },
    {
      "cell_type": "code",
      "metadata": {},
      "source": [
        "def gaussian(x, sigma, mu, vertical_offset):\n",
        "    \"\"\"Apply the Gaussian function to x.\"\"\"\n",
        "    exponent = -1 / 2 * ((x - mu) / sigma) ** 2\n",
        "    return 1 / (sigma * np.sqrt(2 * np.pi)) * np.exp(exponent) + vertical_offset\n",
        "\n",
        "\n",
        "def generate_noisy_gaussian(x: np.ndarray, gauss_params: Dict[str, float], rng_seed=0):\n",
        "    \"\"\"Generate some gaussian data with random noise.\"\"\"\n",
        "    gauss_y = gaussian(x, **gauss_params)\n",
        "    rng = np.random.default_rng(rng_seed)\n",
        "    return gauss_y + rng.uniform(-0.05, 0.05, len(x))"
      ],
      "outputs": [],
      "execution_count": null
    },
    {
      "cell_type": "code",
      "metadata": {},
      "source": [
        "x = np.linspace(-10, 10, 200)\n",
        "gauss_params = {\n",
        "    \"sigma\": 2,\n",
        "    \"mu\": 1,\n",
        "    \"vertical_offset\": 1.5,\n",
        "}\n",
        "gauss_data = generate_noisy_gaussian(x, gauss_params)\n",
        "\n",
        "plt.plot(x, gauss_data)"
      ],
      "outputs": [],
      "execution_count": null
    },
    {
      "cell_type": "markdown",
      "metadata": {},
      "source": [
        "First we need to enumerate the ways to run our solver.\n",
        "Your new `Enum` should inherit from `solver.RunMode`\n",
        "and define the possible run modes for your solver.\n",
        "Generally, your solver will always have a `RUN` mode.\n",
        "Common examples of other run modes are `READ` and `MOCK`."
      ]
    },
    {
      "cell_type": "code",
      "metadata": {},
      "source": [
        "class GaussFitRunMode(RunMode):\n",
        "    \"\"\"Enumeration of the run modes for the GaussFit solver\"\"\"\n",
        "\n",
        "    RUN = enum.auto()\n",
        "    MOCK = enum.auto()"
      ],
      "outputs": [],
      "execution_count": null
    },
    {
      "cell_type": "markdown",
      "metadata": {},
      "source": [
        "Next you must define a `Task` class for each of the setup, run,\n",
        "and teardown stages of the problem.\n",
        "Each task must can define a method corresponding to each name in the\n",
        "enum (written in lowercase) we just defined.\n",
        "In this case, we've defined `RUN` and `MOCK` run modes,\n",
        "so we should define methods `run` and `mock` in at least one of our tasks.\n",
        "If a run mode is not defined for a given task, that stage is skipped.\n",
        "\n",
        "Having separate setup, run, and teardown classes can be useful.\n",
        "For example, writing a solver for an external program like PROCESS,\n",
        "you should ideally be able to re-use the setup/teardown tasks\n",
        "as the parameter mappings performed should be similar."
      ]
    },
    {
      "cell_type": "code",
      "metadata": {},
      "source": [
        "class GaussFitSetup(Task):\n",
        "    \"\"\"\n",
        "    Task to set up the gaussian fitting problem.\n",
        "\n",
        "    This makes some estimates for the fitting parameters.\n",
        "    \"\"\"\n",
        "\n",
        "    def __init__(self, params: Dict[str, Any]):\n",
        "        super().__init__(params)\n",
        "        self._x = params[\"x\"]\n",
        "        self._y = params[\"y\"]\n",
        "\n",
        "    def run(self) -> Dict[str, float]:\n",
        "        \"\"\"\n",
        "        Set up the fitting problem; estimate some fitting parameters.\n",
        "        \"\"\"\n",
        "        return {\n",
        "            \"sigma\": self._estimate_sigma(),\n",
        "            \"mu\": self._estimate_mu(),\n",
        "            \"vertical_offset\": self._estimate_vertical_offset(),\n",
        "        }\n",
        "\n",
        "    def mock(self) -> Dict[str, float]:\n",
        "        \"\"\"\n",
        "        Return a calculation-free estimate of fitting parameters.\n",
        "        \"\"\"\n",
        "        return {\n",
        "            \"sigma\": 1.0,\n",
        "            \"mu\": 1.0,\n",
        "            \"vertical_offset\": 0.0,\n",
        "        }\n",
        "\n",
        "    def _estimate_mu(self) -> float:\n",
        "        \"\"\"The x-value where y is at its maximum estimates the mean.\"\"\"\n",
        "        return self._x[np.argmax(self._y)]\n",
        "\n",
        "    def _estimate_sigma(self) -> float:\n",
        "        \"\"\"Estimate x distance between the half heights and halve.\"\"\"\n",
        "        half_height = (np.max(self._y) + np.min(self._y)) / 2\n",
        "        x_above_hh = self._x[self._y > half_height]\n",
        "        return abs(x_above_hh[0] - x_above_hh[-1]) / 2\n",
        "\n",
        "    def _estimate_vertical_offset(self) -> float:\n",
        "        \"\"\"The minimum value of y; only noise makes this not exact.\"\"\"\n",
        "        return np.min(self._y)\n",
        "\n",
        "\n",
        "class GaussFitRun(Task):\n",
        "    \"\"\"\n",
        "    Task to run the fitting algorithm.\n",
        "\n",
        "    This implements a \"run\" method, this executes the fitting algorithm.\n",
        "    As no \"mock\" method is defined, when this task is called in \"MOCK\"\n",
        "    mode within a solver, it will do nothing.\n",
        "    \"\"\"\n",
        "\n",
        "    def __init__(self, params: Dict[str, Any]):\n",
        "        super().__init__(params)\n",
        "\n",
        "    def run(self, setup_result: Dict[str, float]) -> Dict[str, float]:\n",
        "        \"\"\"Run the fit.\"\"\"\n",
        "        initial_guess = (\n",
        "            setup_result[\"sigma\"],\n",
        "            setup_result[\"mu\"],\n",
        "            setup_result[\"vertical_offset\"],\n",
        "        )\n",
        "        opt, _ = curve_fit(\n",
        "            gaussian, self._params[\"x\"], self._params[\"y\"], p0=initial_guess\n",
        "        )\n",
        "        return {\n",
        "            \"sigma\": opt[0],\n",
        "            \"mu\": opt[1],\n",
        "            \"vertical_offset\": opt[2],\n",
        "        }\n",
        "\n",
        "\n",
        "class GaussFitTeardown(Task):\n",
        "    \"\"\"\n",
        "    Task to teardown the solver.\n",
        "\n",
        "    This will typically be used to free resources (e.g., delete files),\n",
        "    but it's used here to convert the fitting parameters to coordinates.\n",
        "    This finishes the solver by effectively removing the noise from the\n",
        "    original data.\n",
        "    \"\"\"\n",
        "\n",
        "    def __init__(self, params: Dict[str, Any]):\n",
        "        super().__init__(params)\n",
        "\n",
        "    def run(self, run_result: Dict[str, float]) -> np.ndarray:\n",
        "        \"\"\"Run the teardown procedure.\"\"\"\n",
        "        return gaussian(self._params[\"x\"], **run_result)\n",
        "\n",
        "    def mock(self, run_result: Dict[str, float]) -> np.ndarray:\n",
        "        \"\"\"\n",
        "        Run the teardown procedure in 'mock' mode.\n",
        "\n",
        "        This is equivalent to the 'run' mode in this case.\n",
        "        \"\"\"\n",
        "        return self.run(run_result)"
      ],
      "outputs": [],
      "execution_count": null
    },
    {
      "cell_type": "markdown",
      "metadata": {},
      "source": [
        "Now defining the solver is easy.\n",
        "We set the abstract properties to the relevant tasks we've written,\n",
        "then the solver is ready to execute for any of our run modes."
      ]
    },
    {
      "cell_type": "code",
      "metadata": {},
      "source": [
        "class GaussFitSolver(SolverABC):\n",
        "    \"\"\"\n",
        "    Solver for removing noise from some Gaussian data using a fit.\n",
        "    \"\"\"\n",
        "\n",
        "    setup_cls = GaussFitSetup\n",
        "    run_cls = GaussFitRun\n",
        "    teardown_cls = GaussFitTeardown\n",
        "\n",
        "    def execute(self, run_mode: RunMode) -> np.ndarray:\n",
        "        \"\"\"\n",
        "        Execute the setup, run, and teardown tasks of this solver.\n",
        "\n",
        "        As this method is only calling out to its parent class, we don't\n",
        "        technically need it. But it can be useful to provide typing for\n",
        "        the return value.\n",
        "        \"\"\"\n",
        "        return super().execute(run_mode)"
      ],
      "outputs": [],
      "execution_count": null
    },
    {
      "cell_type": "markdown",
      "metadata": {},
      "source": [
        "We can run the solver in `RUN` mode:"
      ]
    },
    {
      "cell_type": "code",
      "metadata": {},
      "source": [
        "params = {\"x\": x, \"y\": gauss_data}\n",
        "\n",
        "gauss_solver = GaussFitSolver(params)\n",
        "result = gauss_solver.execute(GaussFitRunMode.RUN)\n",
        "\n",
        "plt.plot(params[\"x\"], params[\"y\"])\n",
        "plt.plot(params[\"x\"], result)"
      ],
      "outputs": [],
      "execution_count": null
    },
    {
      "cell_type": "markdown",
      "metadata": {},
      "source": [
        "And we can run the solver in `MOCK` mode:"
      ]
    },
    {
      "cell_type": "code",
      "metadata": {},
      "source": [
        "result = gauss_solver.execute(GaussFitRunMode.MOCK)\n",
        "\n",
        "plt.plot(params[\"x\"], params[\"y\"])\n",
        "plt.plot(params[\"x\"], result)"
      ],
      "outputs": [],
      "execution_count": null
    }
  ],
  "metadata": {
    "anaconda-cloud": {},
    "kernelspec": {
      "display_name": "Python 3",
      "language": "python",
      "name": "python3"
    },
    "language_info": {
      "codemirror_mode": {
        "name": "ipython",
        "version": 3
      },
      "file_extension": ".py",
      "mimetype": "text/x-python",
      "name": "python",
      "nbconvert_exporter": "python",
      "pygments_lexer": "ipython3",
      "version": "3.8.12"
    }
  },
  "nbformat": 4,
  "nbformat_minor": 4
}
