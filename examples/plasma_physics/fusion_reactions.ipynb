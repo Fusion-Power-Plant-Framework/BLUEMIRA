{
  "cells": [
    {
      "cell_type": "code",
      "metadata": {},
      "source": [
        "import matplotlib.pyplot as plt\n",
        "import numpy as np\n",
        "\n",
        "from bluemira.display import plot_defaults\n",
        "from bluemira.plasma_physics.reactions import reactivity"
      ],
      "outputs": [],
      "execution_count": null
    },
    {
      "cell_type": "markdown",
      "metadata": {},
      "source": [
        "\n",
        "Let's plot the reactivity of a couple of well-known fusion reactions."
      ]
    },
    {
      "cell_type": "code",
      "metadata": {},
      "source": [
        "plot_defaults()\n",
        "\n",
        "temperature = np.linspace(10e6, 100e6, 1000)  # [K]\n",
        "\n",
        "sigma_v_DT = reactivity(temperature, \"D-T\")  # noqa: N816\n",
        "sigma_v_DD = reactivity(temperature, \"D-D\")  # noqa: N816\n",
        "sigma_v_DHe3 = reactivity(temperature, \"D-He3\")  # noqa: N816\n",
        "\n",
        "f, ax = plt.subplots()\n",
        "ax.loglog(temperature, sigma_v_DT, label=\"D-T\")\n",
        "ax.loglog(temperature, sigma_v_DD, label=\"D-D\")\n",
        "ax.loglog(temperature, sigma_v_DHe3, label=\"D-He3\")\n",
        "\n",
        "ax.grid(which=\"both\")\n",
        "ax.set_xlabel(\"T [K]\")\n",
        "ax.set_ylabel(\"$\\\\sigma_{v}$ [$m^{3}/s$]\")\n",
        "ax.legend()\n",
        "plt.show()"
      ],
      "outputs": [],
      "execution_count": null
    }
  ],
  "metadata": {
    "anaconda-cloud": {},
    "kernelspec": {
      "display_name": "Python 3",
      "language": "python",
      "name": "python3"
    },
    "language_info": {
      "codemirror_mode": {
        "name": "ipython",
        "version": 3
      },
      "file_extension": ".py",
      "mimetype": "text/x-python",
      "name": "python",
      "nbconvert_exporter": "python",
      "pygments_lexer": "ipython3",
      "version": "3.8.15"
    }
  },
  "nbformat": 4,
  "nbformat_minor": 4
}
