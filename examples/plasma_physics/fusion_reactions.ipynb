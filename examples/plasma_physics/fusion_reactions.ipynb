{
  "cells": [
    {
      "cell_type": "code",
      "metadata": {},
      "source": [
        "plot_defaults()\n",
        "\n",
        "temperature = np.linspace(0.2, 100, 1000)  # [keV]\n",
        "\n",
        "sigma_v_DT = reactivity(temperature, \"D-T\")\n",
        "sigma_v_DD = reactivity(temperature, \"D-D\")\n",
        "sigma_v_DHe3 = reactivity(temperature, \"D-He3\")\n",
        "\n",
        "f, ax = plt.subplots()\n",
        "ax.loglog(temperature, sigma_v_DT, label=\"D-T\")\n",
        "ax.loglog(temperature, sigma_v_DD, label=\"D-D\")\n",
        "ax.loglog(temperature, sigma_v_DHe3, label=\"D-He3\")\n",
        "\n",
        "ax.set_xlabel(\"T [keV]\")\n",
        "ax.set_ylabel(\"$\\\\sigma_{v}$ [$m^{3}/s$]\")\n",
        "ax.legend()"
      ],
      "outputs": [],
      "execution_count": null
    }
  ],
  "metadata": {
    "anaconda-cloud": {},
    "kernelspec": {
      "display_name": "Python 3",
      "language": "python",
      "name": "python3"
    },
    "language_info": {
      "codemirror_mode": {
        "name": "ipython",
        "version": 3
      },
      "file_extension": ".py",
      "mimetype": "text/x-python",
      "name": "python",
      "nbconvert_exporter": "python",
      "pygments_lexer": "ipython3",
      "version": "3.8.15"
    }
  },
  "nbformat": 4,
  "nbformat_minor": 4
}
