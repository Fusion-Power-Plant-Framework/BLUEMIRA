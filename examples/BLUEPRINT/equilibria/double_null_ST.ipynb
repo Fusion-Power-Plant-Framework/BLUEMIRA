{
  "cells": [
    {
      "cell_type": "markdown",
      "metadata": {},
      "source": [
        "# Example double null equilibrium for a spherical tokamak"
      ]
    },
    {
      "cell_type": "code",
      "metadata": {},
      "source": [
        "from IPython import get_ipython\n",
        "import os\n",
        "import numpy as np\n",
        "import matplotlib.pyplot as plt\n",
        "from bluemira.base.look_and_feel import plot_defaults\n",
        "from BLUEPRINT.base.file import get_BP_path\n",
        "from BLUEPRINT.geometry.loop import Loop\n",
        "from BLUEPRINT.equilibria.profiles import CustomProfile\n",
        "from BLUEPRINT.equilibria.gridops import Grid\n",
        "from BLUEPRINT.equilibria.constraints import (\n",
        "    MagneticConstraintSet,\n",
        "    IsofluxConstraint,\n",
        ")\n",
        "from BLUEPRINT.equilibria.coils import Coil, CoilSet, SymmetricCircuit\n",
        "from BLUEPRINT.equilibria.equilibrium import Equilibrium\n",
        "from BLUEPRINT.equilibria.optimiser import Norm2Tikhonov\n",
        "from BLUEPRINT.equilibria.solve import PicardDeltaIterator\n",
        "from BLUEPRINT.equilibria.eqdsk import EQDSKInterface\n",
        "\n",
        "try:\n",
        "    get_ipython().run_line_magic(\"matplotlib\", \"qt\")\n",
        "except AttributeError:\n",
        "    pass"
      ],
      "outputs": [],
      "execution_count": null
    },
    {
      "cell_type": "markdown",
      "metadata": {},
      "source": [
        "Set some plotting defaults"
      ]
    },
    {
      "cell_type": "code",
      "metadata": {},
      "source": [
        "plt.close(\"all\")\n",
        "plot_defaults()"
      ],
      "outputs": [],
      "execution_count": null
    },
    {
      "cell_type": "markdown",
      "metadata": {},
      "source": [
        "Interactive mode allows manual step through of the solver iterations\n",
        "Run the script in `ipython` or with `python -i`\n",
        "When the script completes do as below\n",
        "```\n",
        "next(program)\n",
        "```\n",
        "or\n",
        "```\n",
        "program.iterate_once()\n",
        "```\n",
        "Each call of `next(program)` or `program.iterate_once()` will perform an iteration of\n",
        "the solver. `iterate_once` will handle the `StopIteration` condition on convergence,\n",
        "whereas the `next(program)` method will raise the usual `StopIteration` exception\n",
        "on convergence.\n",
        "After each iteration you can check the properties of the solver e.g. `program.psi`."
      ]
    },
    {
      "cell_type": "code",
      "metadata": {},
      "source": [
        "interactive = False"
      ],
      "outputs": [],
      "execution_count": null
    },
    {
      "cell_type": "markdown",
      "metadata": {},
      "source": [
        "Mirroring work by Agnieszka Hudoba on STEP using FIESTA, 19/11/2019"
      ]
    },
    {
      "cell_type": "code",
      "metadata": {},
      "source": [
        "R0 = 2.5\n",
        "Z0 = 0\n",
        "A = 1.6\n",
        "kappa = 2.8\n",
        "delta = 0.52\n",
        "Bt = 1.87\n",
        "betap = 2.7\n",
        "Ip = 16.5e6"
      ],
      "outputs": [],
      "execution_count": null
    },
    {
      "cell_type": "markdown",
      "metadata": {},
      "source": [
        "Set `apply_constraint_weights` to `True` to weight core plasma isoflux\n",
        "with a custom array of weights"
      ]
    },
    {
      "cell_type": "code",
      "metadata": {},
      "source": [
        "apply_constraint_weights = False"
      ],
      "outputs": [],
      "execution_count": null
    },
    {
      "cell_type": "markdown",
      "metadata": {},
      "source": [
        "Make a grid"
      ]
    },
    {
      "cell_type": "code",
      "metadata": {},
      "source": [
        "r0, r1 = 0.2, 8\n",
        "z0, z1 = -8, 8\n",
        "nx, nz = 129, 257\n",
        "\n",
        "grid = Grid(r0, r1, z0, z1, nx, nz)"
      ],
      "outputs": [],
      "execution_count": null
    },
    {
      "cell_type": "markdown",
      "metadata": {},
      "source": [
        "Import example plasma profile from eqdsk"
      ]
    },
    {
      "cell_type": "code",
      "metadata": {},
      "source": [
        "folder = get_BP_path(\"eqdsk\", subfolder=\"data\")\n",
        "name = \"jetto.eqdsk_out\"\n",
        "filename = os.sep.join([folder, name])\n",
        "profile = CustomProfile.from_eqdsk(filename)\n",
        "\n",
        "reader = EQDSKInterface()\n",
        "jettoequilibria = reader.read(filename)"
      ],
      "outputs": [],
      "execution_count": null
    },
    {
      "cell_type": "markdown",
      "metadata": {},
      "source": [
        "Initialising LCFS"
      ]
    },
    {
      "cell_type": "code",
      "metadata": {},
      "source": [
        "jettolcfs = Loop(x=jettoequilibria[\"xbdry\"], z=jettoequilibria[\"zbdry\"])\n",
        "\n",
        "i = [np.min(jettolcfs.x), jettolcfs.z[np.argmin(jettolcfs.x)]]\n",
        "o = [np.max(jettolcfs.x), jettolcfs.z[np.argmax(jettolcfs.x)]]\n",
        "u = [jettolcfs.x[np.argmax(jettolcfs.z)], np.max(jettolcfs.z)]\n",
        "ll = [jettolcfs.x[np.argmin(jettolcfs.z)], np.min(jettolcfs.z)]"
      ],
      "outputs": [],
      "execution_count": null
    },
    {
      "cell_type": "markdown",
      "metadata": {},
      "source": [
        "Make a family of constraints"
      ]
    },
    {
      "cell_type": "code",
      "metadata": {},
      "source": [
        "constraint_set = MagneticConstraintSet()"
      ],
      "outputs": [],
      "execution_count": null
    },
    {
      "cell_type": "markdown",
      "metadata": {},
      "source": [
        "Create isoflux constraints"
      ]
    },
    {
      "cell_type": "code",
      "metadata": {},
      "source": [
        "X = np.array([i[0], u[0], o[0], ll[0]])\n",
        "Z = np.array([i[1], u[1], o[1], ll[1]])"
      ],
      "outputs": [],
      "execution_count": null
    },
    {
      "cell_type": "markdown",
      "metadata": {},
      "source": [
        "Specify optional array of weights for these core isoflux constraints"
      ]
    },
    {
      "cell_type": "code",
      "metadata": {},
      "source": [
        "if apply_constraint_weights:\n",
        "    W = np.array([2.0, 1.0, 1.5, 1.5])\n",
        "else:\n",
        "    W = 1.0"
      ],
      "outputs": [],
      "execution_count": null
    },
    {
      "cell_type": "markdown",
      "metadata": {},
      "source": [
        "Divertor legs\n",
        "Points chosen to replicate divertor legs in AH's FIESTA demo"
      ]
    },
    {
      "cell_type": "code",
      "metadata": {},
      "source": [
        "x_hfs = np.array(\n",
        "    [1.42031, 1.057303, 0.814844, 0.669531, 0.621094, 0.621094, 0.645312, 0.596875]\n",
        ")\n",
        "z_hfs = np.array([4.79844, 5.0875, 5.37656, 5.72344, 6.0125, 6.6484, 6.82188, 7.34219])\n",
        "\n",
        "x_lfs = np.array([1.85625, 2.24375, 2.53438, 2.89766, 3.43047, 4.27813, 5.80391, 6.7])\n",
        "z_lfs = np.array(\n",
        "    [4.79844, 5.37656, 5.83906, 6.24375, 6.59063, 6.76406, 6.70625, 6.70625]\n",
        ")\n",
        "\n",
        "xdiv = np.concatenate([x_lfs, x_lfs, x_hfs, x_hfs])\n",
        "zdiv = np.concatenate([z_lfs, -z_lfs, z_hfs, -z_hfs])\n",
        "\n",
        "constraint_set.constraints = [\n",
        "    IsofluxConstraint(X, Z, ref_x=o[0], ref_z=o[1], weights=W),\n",
        "    IsofluxConstraint(xdiv, zdiv, ref_x=o[0], ref_z=o[1]),\n",
        "]"
      ],
      "outputs": [],
      "execution_count": null
    },
    {
      "cell_type": "markdown",
      "metadata": {},
      "source": [
        "Make a coilset\n",
        "No CS coils needed for the equilibrium (Last 2 coils are CS below)\n",
        "EFIT coils"
      ]
    },
    {
      "cell_type": "code",
      "metadata": {},
      "source": [
        "coil_x = [1.1, 6.9, 6.9, 1.05, 3.2, 5.7, 5.3]\n",
        "coil_z = [7.8, 4.7, 3.3, 6.05, 8.0, 7.8, 5.55]\n",
        "coil_dx = [0.45, 0.5, 0.5, 0.3, 0.6, 0.5, 0.25]\n",
        "coil_dz = [0.5, 0.8, 0.8, 0.8, 0.5, 0.5, 0.5]\n",
        "currents = [0, 0, 0, 0, 0, 0, 0]\n",
        "\n",
        "coils = []\n",
        "for i in range(len(coil_x)):\n",
        "    if coil_x[i] == 0.125:\n",
        "        ctype = \"CS\"\n",
        "    else:\n",
        "        ctype = \"PF\"\n",
        "    coil = SymmetricCircuit(\n",
        "        coil_x[i],\n",
        "        coil_z[i],\n",
        "        dx=coil_dx[i] / 2,\n",
        "        dz=coil_dz[i] / 2,\n",
        "        current=currents[i],\n",
        "        ctype=ctype,\n",
        "    )\n",
        "    coils.append(coil)\n",
        "\n",
        "\n",
        "coilset = CoilSet(coils, R0)\n",
        "coilset_temp = CoilSet(coils, R0)"
      ],
      "outputs": [],
      "execution_count": null
    },
    {
      "cell_type": "markdown",
      "metadata": {},
      "source": [
        "Temporarily add a simple plasma coil to get a good starting guess for psi"
      ]
    },
    {
      "cell_type": "code",
      "metadata": {},
      "source": [
        "coilset_temp.add_coil(\n",
        "    Coil(R0 + 0.5, Z0, dx=0, dz=0, current=Ip, name=\"plasma_dummy\", control=False)\n",
        ")\n",
        "\n",
        "eq = Equilibrium(\n",
        "    coilset_temp,\n",
        "    grid,\n",
        "    boundary=\"free\",\n",
        "    force_symmetry=True,\n",
        "    vcontrol=None,\n",
        "    limiter=None,\n",
        "    psi=None,\n",
        "    Ip=0,\n",
        "    li=None,\n",
        ")\n",
        "constraint_set(eq)\n",
        "optimiser = Norm2Tikhonov(gamma=1e-7)  # This is still a bit of a magic number..\n",
        "currents = optimiser(eq, constraint_set)\n",
        "\n",
        "coilset_temp.set_control_currents(currents)\n",
        "coilset.set_control_currents(currents)\n",
        "\n",
        "psi = coilset_temp.psi(grid.x, grid.z).copy()"
      ],
      "outputs": [],
      "execution_count": null
    },
    {
      "cell_type": "markdown",
      "metadata": {},
      "source": [
        "Optional: coilsets can be meshed for accuracy at the expense of speed using\n",
        "```\n",
        "coilset.mesh_coils(0.2)\n",
        "```"
      ]
    },
    {
      "cell_type": "code",
      "metadata": {},
      "source": [
        "eq = Equilibrium(\n",
        "    coilset,\n",
        "    grid,\n",
        "    boundary=\"free\",\n",
        "    force_symmetry=True,\n",
        "    vcontrol=None,\n",
        "    psi=psi,\n",
        "    Ip=Ip,\n",
        "    li=None,\n",
        ")\n",
        "eq.plot()\n",
        "plt.close(\"all\")"
      ],
      "outputs": [],
      "execution_count": null
    },
    {
      "cell_type": "markdown",
      "metadata": {},
      "source": [
        "Simple unconstrained optimisation"
      ]
    },
    {
      "cell_type": "code",
      "metadata": {},
      "source": [
        "optimiser = Norm2Tikhonov(gamma=1e-8)  # This is still a bit of a magic number..\n",
        "\n",
        "program = PicardDeltaIterator(\n",
        "    eq,\n",
        "    profile,  # jetto\n",
        "    constraint_set,\n",
        "    optimiser,\n",
        "    plot=True,\n",
        "    gif=False,\n",
        "    relaxation=0.3,\n",
        "    # convergence=CunninghamConvergence(),\n",
        "    maxiter=400,\n",
        ")\n",
        "\n",
        "if interactive:\n",
        "    next(program)\n",
        "else:\n",
        "    program()\n",
        "    plt.close(\"all\")\n",
        "\n",
        "    f, ax = plt.subplots()\n",
        "    eq.plot(ax=ax)\n",
        "    constraint_set.plot(ax=ax)"
      ],
      "outputs": [],
      "execution_count": null
    }
  ],
  "metadata": {
    "anaconda-cloud": {},
    "kernelspec": {
      "display_name": "Python 3",
      "language": "python",
      "name": "python3"
    },
    "language_info": {
      "codemirror_mode": {
        "name": "ipython",
        "version": 3
      },
      "file_extension": ".py",
      "mimetype": "text/x-python",
      "name": "python",
      "nbconvert_exporter": "python",
      "pygments_lexer": "ipython3",
      "version": "3.6.9"
    }
  },
  "nbformat": 4,
  "nbformat_minor": 4
}