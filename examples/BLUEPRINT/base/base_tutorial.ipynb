{
  "cells": [
    {
      "cell_type": "code",
      "metadata": {},
      "source": [
        "from typing import Type\n",
        "from BLUEPRINT.base import ParameterFrame, ReactorSystem, TypeFrameworkError\n",
        "from BLUEPRINT.geometry.loop import Loop"
      ],
      "outputs": [],
      "execution_count": null
    },
    {
      "cell_type": "markdown",
      "metadata": {},
      "source": [
        "# Anatomy of a ReactorSystem"
      ]
    },
    {
      "cell_type": "code",
      "metadata": {},
      "source": [
        "class TypicalSystem(ReactorSystem):\n",
        "    \"\"\"\n",
        "    The class docstring. It should contain a simple description of what\n",
        "    the class is.\n",
        "    \"\"\"\n",
        "\n",
        "    # This is where we define class attributes (we can give type-hints)\n",
        "\n",
        "    name: str\n",
        "    config: Type[ParameterFrame]\n",
        "    inputs: dict\n",
        "\n",
        "    something: Type[Loop]\n",
        "\n",
        "    # Here we define the Parameters that the TypicalSystem class will use\n",
        "    # These will be pulled from the Reactor that we are making when using this\n",
        "    # class\n",
        "\n",
        "    # fmt: off  --> this is the flag for black to ignore this part of the code\n",
        "    default_params = [\n",
        "        [\"n_TF\", \"Number of TF coils\", 16, \"N/A\", None, \"Input\"],\n",
        "        [\"coolant\", \"Coolant\", \"Water\", None, \"Divertor coolant type\", \"Common sense\"],\n",
        "        [\"T_in\", \"Coolant inlet T\", 80, \"\u00b0C\", \"Coolant inlet T\", None],\n",
        "    ]\n",
        "    # fmt: on   --> turn formatting back on!\n",
        "\n",
        "    def __init__(self, config: Type[ParameterFrame], inputs: dict) -> None:\n",
        "        self.config = config\n",
        "        self.inputs = inputs\n",
        "\n",
        "        # Here are going to update the default Parameters with the config\n",
        "        # (which normally comes from the Reactor)\n",
        "        self.params = ParameterFrame(self.default_params.to_records())\n",
        "        self.params.update_kw_parameters(self.config)\n",
        "\n",
        "    def add_loop(self, loop: Type[Loop]) -> None:\n",
        "        \"\"\"\n",
        "        Assign a loop to the class.\n",
        "\n",
        "        Parameters\n",
        "        ----------\n",
        "        loop: Loop\n",
        "            The Loop to use\n",
        "        \"\"\"\n",
        "        self.something = loop"
      ],
      "outputs": [],
      "execution_count": null
    },
    {
      "cell_type": "markdown",
      "metadata": {},
      "source": [
        "Now let's make an instance of the TypicalSystem\n",
        "\n",
        "First, we make a ParameterFrame, which we will make really small here, but in\n",
        "practice will come from a Reactor, and have lots of things in it"
      ]
    },
    {
      "cell_type": "code",
      "metadata": {},
      "source": [
        "config = ParameterFrame(\n",
        "    [\n",
        "        [\"n_TF\", \"Number of TF coils\", 18, \"N/A\", None, \"Input\"],\n",
        "        [\"n_PF\", \"Number of PF coils\", 8, \"N/A\", None, \"Input\"],\n",
        "    ]\n",
        ")\n",
        "inputs = {\"something\": \"random\"}\n",
        "\n",
        "\n",
        "typ_system = TypicalSystem(config, inputs)"
      ],
      "outputs": [],
      "execution_count": null
    },
    {
      "cell_type": "markdown",
      "metadata": {},
      "source": [
        "Notice 3 things:\n",
        "*  the class default for n_TF was 16, and we passed a config with 18.\n",
        "   Now the TypicalSystem thinks n_TF = 18\n",
        "*  The config ParameterFrame had a Parameter n_PF, which wasn't defined\n",
        "   in the TypicalSystem class. TypicalSystem ignores this Parameter: it\n",
        "   simply doesn't update its ParameterFrame\n",
        "*  Some Parameters were in TypicalSystem, that were not updated by our\n",
        "   \"global\" config. They are left untouched."
      ]
    },
    {
      "cell_type": "code",
      "metadata": {},
      "source": [
        "print(typ_system.params)"
      ],
      "outputs": [],
      "execution_count": null
    },
    {
      "cell_type": "markdown",
      "metadata": {},
      "source": [
        "OK now let's add a Loop to our TypicalSystem"
      ]
    },
    {
      "cell_type": "code",
      "metadata": {},
      "source": [
        "loop = Loop(x=[1, 2, 3, 4, 5, 1], y=[0, 1, 2, 3, 0, 0])\n",
        "\n",
        "typ_system.add_loop(loop)"
      ],
      "outputs": [],
      "execution_count": null
    },
    {
      "cell_type": "markdown",
      "metadata": {},
      "source": [
        "So far, so good. But what about all these type annotations?\n",
        "Python is dynamically typed, and sometimes this can cause problems, in\n",
        "particular when doing a lot of very different things...\n",
        "Using some magic in the base module, our type annotations are now strictly\n",
        "enforced by default.\n",
        "\n",
        "So let's try and break things..."
      ]
    },
    {
      "cell_type": "code",
      "metadata": {},
      "source": [
        "try:\n",
        "    typ_system.name = 42\n",
        "except TypeFrameworkError as e:\n",
        "    print(e)"
      ],
      "outputs": [],
      "execution_count": null
    },
    {
      "cell_type": "code",
      "metadata": {},
      "source": [
        "try:\n",
        "    typ_system.add_loop(34.6)\n",
        "except TypeFrameworkError as e:\n",
        "    print(e)"
      ],
      "outputs": [],
      "execution_count": null
    },
    {
      "cell_type": "code",
      "metadata": {},
      "source": [
        "try:\n",
        "    typ_system.something = \"nothing\"\n",
        "except TypeFrameworkError as e:\n",
        "    print(e)"
      ],
      "outputs": [],
      "execution_count": null
    }
  ],
  "metadata": {
    "anaconda-cloud": {},
    "kernelspec": {
      "display_name": "Python 3",
      "language": "python",
      "name": "python3"
    },
    "language_info": {
      "codemirror_mode": {
        "name": "ipython",
        "version": 3
      },
      "file_extension": ".py",
      "mimetype": "text/x-python",
      "name": "python",
      "nbconvert_exporter": "python",
      "pygments_lexer": "ipython3",
      "version": "3.6.9"
    }
  },
  "nbformat": 4,
  "nbformat_minor": 4
}