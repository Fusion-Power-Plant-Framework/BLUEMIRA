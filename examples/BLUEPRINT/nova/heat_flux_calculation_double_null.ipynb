{
  "cells": [
    {
      "cell_type": "markdown",
      "metadata": {},
      "source": [
        "Heat Flux Calculation and first wall shaping"
      ]
    },
    {
      "cell_type": "code",
      "metadata": {},
      "source": [
        "import os\n",
        "import matplotlib.pyplot as plt\n",
        "from BLUEPRINT.base.file import get_BP_path\n",
        "from BLUEPRINT.equilibria.equilibrium import Equilibrium\n",
        "from BLUEPRINT.systems.firstwall import FirstWallDN\n",
        "from BLUEPRINT.geometry.loop import Loop\n",
        "from time import time\n",
        "\n",
        "t = time()"
      ],
      "outputs": [],
      "execution_count": null
    },
    {
      "cell_type": "markdown",
      "metadata": {},
      "source": [
        "Loading an equilibrium file"
      ]
    },
    {
      "cell_type": "code",
      "metadata": {},
      "source": [
        "read_path = get_BP_path(\"equilibria/test_data\", subfolder=\"tests\")\n",
        "eq_name = \"DN-DEMO_eqref.json\"\n",
        "eq_name = os.sep.join([read_path, eq_name])\n",
        "eq = Equilibrium.from_eqdsk(eq_name, load_large_file=True)\n",
        "x_box = [4, 15, 15, 4, 4]\n",
        "z_box = [-11, -11, 11, 11, -11]\n",
        "vv_box = Loop(x=x_box, z=z_box)"
      ],
      "outputs": [],
      "execution_count": null
    },
    {
      "cell_type": "markdown",
      "metadata": {},
      "source": [
        "Calling the First Wall Class the create a\n",
        "preliminary first wall profile devoid of the divertor.\n",
        "In input, besides the equilibrium, we need to provide a\n",
        "a vacuum vessel profile.\n",
        "Adding the divertor to the above mentioned first wall."
      ]
    },
    {
      "cell_type": "code",
      "metadata": {},
      "source": [
        "fw = FirstWallDN(FirstWallDN.default_params, {\"equilibrium\": eq, \"vv_inner\": vv_box})\n",
        "divertor_loops = fw.make_divertor(fw.profile)\n",
        "fw_diverted = fw.attach_divertor(fw.profile, divertor_loops)"
      ],
      "outputs": [],
      "execution_count": null
    },
    {
      "cell_type": "markdown",
      "metadata": {},
      "source": [
        "Plotting the initial first wall profile"
      ]
    },
    {
      "cell_type": "code",
      "metadata": {},
      "source": [
        "f, ax = plt.subplots()\n",
        "fw_diverted.plot(ax=ax, fill=False, facecolor=\"b\", linewidth=0.5)"
      ],
      "outputs": [],
      "execution_count": null
    },
    {
      "cell_type": "markdown",
      "metadata": {},
      "source": [
        "Setting the while loop to iterate the first wall optimisation\n",
        "until the heat flux is within the limit\n",
        "In the first iteration, the preliminary profile made above is used"
      ]
    },
    {
      "cell_type": "code",
      "metadata": {},
      "source": [
        "profile = fw.profile\n",
        "hf_wall_max = 1\n",
        "\n",
        "while hf_wall_max > 0.5:\n",
        "    fw_opt = FirstWallDN(\n",
        "        FirstWallDN.default_params,\n",
        "        {\"equilibrium\": eq, \"profile\": profile, \"vv_inner\": vv_box},\n",
        "    )\n",
        "\n",
        "    # Calculate the parallel contribution of the heat flux\n",
        "    # at the outer and inner mid-plane\n",
        "    qpar_omp, qpar_imp = fw_opt.q_parallel_calculation()\n",
        "\n",
        "    # Find the first intersection between each flux surface\n",
        "    # and the first wall profile at the lfs and hfs\n",
        "    lfs_hfs_intersections = fw_opt.find_intersections()\n",
        "    lfs_hfs_first_int = fw_opt.find_first_intersections(*lfs_hfs_intersections)\n",
        "\n",
        "    # At each intersection, calculate the local parallel\n",
        "    # contribution of the heat flux, the incident angle between\n",
        "    # fs and fw, and the flux expansion\n",
        "    (\n",
        "        qpar_local_lfs_hfs,\n",
        "        incindent_angle_lfs_hfs,\n",
        "        f_list_lfs_hfs,\n",
        "    ) = fw_opt.define_flux_surfaces_parameters_to_calculate_heat_flux(\n",
        "        qpar_omp,\n",
        "        qpar_imp,\n",
        "        *lfs_hfs_first_int,\n",
        "    )\n",
        "\n",
        "    # Associate to each intersection the x and z coordinates\n",
        "    # and the heat flux value\n",
        "    x, z, hf = fw_opt.calculate_heat_flux(\n",
        "        *lfs_hfs_first_int,\n",
        "        *qpar_local_lfs_hfs[0],\n",
        "        *qpar_local_lfs_hfs[1],\n",
        "        *incindent_angle_lfs_hfs[0],\n",
        "        *incindent_angle_lfs_hfs[1],\n",
        "    )\n",
        "\n",
        "    # As only the first wall is optimised, isolate the heat fluxes on\n",
        "    # the first wall from the whole profile (which includes divertor)\n",
        "    x_wall = []\n",
        "    z_wall = []\n",
        "    hf_wall = []\n",
        "    for list_x, list_z, list_hf in zip(x, z, hf):\n",
        "        for x, z, hf in zip(list_x, list_z, list_hf):\n",
        "            if z < fw.points[\"x_point\"][\"z_up\"] and z > fw.points[\"x_point\"][\"z_low\"]:\n",
        "                x_wall.append(x)\n",
        "                z_wall.append(z)\n",
        "                hf_wall.append(hf)\n",
        "\n",
        "    # Optimise the first wall shape and verify that for the final iteration\n",
        "    # the heat flux is below the limit\n",
        "    optimised_profile = profile\n",
        "    for x, z, hf in zip(x_wall, z_wall, hf_wall):\n",
        "        optimised_profile = fw_opt.modify_fw_profile(optimised_profile, x, z, hf)\n",
        "    hf_wall_max = max(hf_wall)\n",
        "    profile = optimised_profile\n",
        "    print(hf_wall_max)"
      ],
      "outputs": [],
      "execution_count": null
    },
    {
      "cell_type": "markdown",
      "metadata": {},
      "source": [
        "Close the profile by adding the divertor to the final fw"
      ]
    },
    {
      "cell_type": "code",
      "metadata": {},
      "source": [
        "divertor_loops = fw_opt.make_divertor(profile)\n",
        "fw_opt_diverted = fw_opt.attach_divertor(fw_opt.profile, divertor_loops)"
      ],
      "outputs": [],
      "execution_count": null
    },
    {
      "cell_type": "markdown",
      "metadata": {},
      "source": [
        "Plotting First wall, separatrix and flux surfaces"
      ]
    },
    {
      "cell_type": "code",
      "metadata": {},
      "source": [
        "f, ax = plt.subplots()\n",
        "fw_opt.separatrix.plot(ax, fill=False, facecolor=\"b\", linewidth=0.1)\n",
        "for fs in lfs_hfs_first_int[0]:\n",
        "    if len(fs) != 0:\n",
        "        fs[2].plot(ax, fill=False, facecolor=\"r\", linewidth=0.1)\n",
        "for fs in lfs_hfs_first_int[1]:\n",
        "    if len(fs) != 0:\n",
        "        fs[2].plot(ax, fill=False, facecolor=\"r\", linewidth=0.1)\n",
        "for fs in lfs_hfs_first_int[2]:\n",
        "    if len(fs) != 0:\n",
        "        fs[2].plot(ax, fill=False, facecolor=\"r\", linewidth=0.1)\n",
        "for fs in lfs_hfs_first_int[3]:\n",
        "    if len(fs) != 0:\n",
        "        fs[2].plot(ax, fill=False, facecolor=\"r\", linewidth=0.1)\n",
        "fw_opt_diverted.plot(ax=ax, fill=False, facecolor=\"b\", linewidth=0.5)"
      ],
      "outputs": [],
      "execution_count": null
    },
    {
      "cell_type": "markdown",
      "metadata": {},
      "source": [
        "Plotting First wall shape, intersection points and heat flux values\n",
        "on the first wall (no divertor)"
      ]
    },
    {
      "cell_type": "code",
      "metadata": {},
      "source": [
        "fig, ax = plt.subplots()\n",
        "fw_opt_diverted.plot(ax=ax, fill=False)\n",
        "cs = ax.scatter(x_wall, z_wall, s=25, c=hf_wall, cmap=\"viridis\", zorder=100)\n",
        "bar = fig.colorbar(cs, ax=ax)\n",
        "bar.set_label(\"Heat Flux [MW/m^2]\")\n",
        "\n",
        "print(f\"{time()-t:.2f} seconds\")"
      ],
      "outputs": [],
      "execution_count": null
    }
  ],
  "metadata": {
    "anaconda-cloud": {},
    "kernelspec": {
      "display_name": "Python 3",
      "language": "python",
      "name": "python3"
    },
    "language_info": {
      "codemirror_mode": {
        "name": "ipython",
        "version": 3
      },
      "file_extension": ".py",
      "mimetype": "text/x-python",
      "name": "python",
      "nbconvert_exporter": "python",
      "pygments_lexer": "ipython3",
      "version": "3.8.10"
    }
  },
  "nbformat": 4,
  "nbformat_minor": 4
}