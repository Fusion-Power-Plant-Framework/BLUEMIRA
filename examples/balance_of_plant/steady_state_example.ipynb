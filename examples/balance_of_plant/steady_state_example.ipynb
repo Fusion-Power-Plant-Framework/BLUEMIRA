{
  "cells": [
    {
      "cell_type": "code",
      "execution_count": 1,
      "metadata": {},
      "outputs": [],
      "source": [
        "from bluemira.balance_of_plant.steady_state import (\n",
        "    BalanceOfPlant,\n",
        "    H2OPumping,\n",
        "    HePumping,\n",
        "    NeutronPowerStrategy,\n",
        "    ParasiticLoadStrategy,\n",
        "    PredeterminedEfficiency,\n",
        "    RadChargedPowerStrategy,\n",
        "    SuperheatedRankine,\n",
        ")\n",
        "from bluemira.base.parameter import ParameterFrame"
      ]
    },
    {
      "cell_type": "markdown",
      "metadata": {},
      "source": [
        "\n",
        "Let's set up a typical power balance model. We start by specifying some parameters we\n",
        "want to use."
      ]
    },
    {
      "cell_type": "code",
      "execution_count": 2,
      "metadata": {},
      "outputs": [],
      "source": [
        "# fmt: off\n",
        "default_params = ParameterFrame([\n",
        "    ['P_fus_DT', 'D-T fusion power', 1995, 'MW', None, 'Input'],\n",
        "    ['P_fus_DD', 'D-D fusion power', 5, 'MW', None, 'Input'],\n",
        "    ['P_rad', 'Radiation power', 400, 'MW', None, 'Input'],\n",
        "    ['P_hcd', \"Heating and current drive power\", 50, \"MW\", None, 'Input'],\n",
        "    ['P_hcd_el', \"Heating and current drive electrical power\", 150, \"MW\", None, 'Input'],\n",
        "    ['P_bb_decay', 'Blanket decay heat', 30, 'MW', None, 'Input'],\n",
        "])\n",
        "# fmt: on"
      ]
    },
    {
      "cell_type": "markdown",
      "metadata": {},
      "source": [
        "\n",
        "We then weed to specify how we're going to treat the neutrons, radiation, and charged\n",
        "particle loads. We do this by specifying \"strategies\"."
      ]
    },
    {
      "cell_type": "code",
      "execution_count": 3,
      "metadata": {},
      "outputs": [],
      "source": [
        "neutron_power_strat = NeutronPowerStrategy(\n",
        "    f_blanket=0.9,\n",
        "    f_divertor=0.05,\n",
        "    f_vessel=0.04,\n",
        "    f_other=0.01,\n",
        "    energy_multiplication=1.35,\n",
        ")\n",
        "rad_sep_strat = RadChargedPowerStrategy(\n",
        "    f_core_rad_fw=0.9,\n",
        "    f_sol_rad=0.75,\n",
        "    f_sol_rad_fw=0.8,\n",
        "    f_sol_ch_fw=0.8,\n",
        "    f_fw_aux=0.09,\n",
        ")"
      ]
    },
    {
      "cell_type": "markdown",
      "metadata": {},
      "source": [
        "\n",
        "Now we to specify how the in-vessel components are being cooled, to calculate pumping\n",
        "powers, and the balance of plant cycle design."
      ]
    },
    {
      "cell_type": "code",
      "execution_count": 4,
      "metadata": {},
      "outputs": [],
      "source": [
        "blanket_pump_strat = HePumping(8, 7.5, 300, 500, eta_isentropic=0.9, eta_electric=0.87)\n",
        "bop_cycle = SuperheatedRankine(bb_t_out=500, delta_t_turbine=20)\n",
        "divertor_pump_strat = H2OPumping(f_pump=0.05, eta_isentropic=0.99, eta_electric=0.87)"
      ]
    },
    {
      "cell_type": "markdown",
      "metadata": {},
      "source": [
        "\n",
        "Maybe we don't have any good models to estimate some of the other parasitic loads. We\n",
        "can set up a simple scaling with respect to a known reference point, by sub-classing\n",
        "from the ABC and specifying some calculation in the `calculate` method."
      ]
    },
    {
      "cell_type": "code",
      "execution_count": 5,
      "metadata": {},
      "outputs": [],
      "source": [
        "class EUDEMOReferenceParasiticLoadStrategy(ParasiticLoadStrategy):\n",
        "    def __init__(self):\n",
        "        self.p_fusion_ref = 2037\n",
        "        self.p_cryo = 44\n",
        "        self.p_mag = 44\n",
        "        self.p_t_plant = 15.5\n",
        "        self.p_other = 31\n",
        "\n",
        "    def calculate(self, p_fusion):\n",
        "        \"\"\"\n",
        "        Because we were told to do this. Nobody trusts models.\n",
        "        \"\"\"\n",
        "        f_norm = p_fusion / self.p_fusion_ref\n",
        "        p_mag = f_norm * self.p_mag\n",
        "        p_cryo = f_norm * self.p_cryo\n",
        "        p_t_plant = f_norm * self.p_t_plant\n",
        "        p_other = f_norm * self.p_other\n",
        "        return p_mag, p_cryo, p_t_plant, p_other\n",
        "\n",
        "\n",
        "parasitic_load_strat = EUDEMOReferenceParasiticLoadStrategy()"
      ]
    },
    {
      "cell_type": "markdown",
      "metadata": {},
      "source": [
        "\n",
        "Now, we put everything together and build it"
      ]
    },
    {
      "cell_type": "code",
      "execution_count": 6,
      "metadata": {},
      "outputs": [
        {
          "ename": "AttributeError",
          "evalue": "'RadChargedPowerStrategy' object has no attribute 'f_fw_blk'",
          "output_type": "error",
          "traceback": [
            "\u001b[0;31m---------------------------------------------------------------------------\u001b[0m",
            "\u001b[0;31mAttributeError\u001b[0m                            Traceback (most recent call last)",
            "Input \u001b[0;32mIn [6]\u001b[0m, in \u001b[0;36m<module>\u001b[0;34m\u001b[0m\n\u001b[1;32m      1\u001b[0m HCPB_bop \u001b[38;5;241m=\u001b[39m BalanceOfPlant(\n\u001b[1;32m      2\u001b[0m     default_params,\n\u001b[1;32m      3\u001b[0m     rad_sep_strat\u001b[38;5;241m=\u001b[39mrad_sep_strat,\n\u001b[0;32m   (...)\u001b[0m\n\u001b[1;32m      8\u001b[0m     parasitic_load_strat\u001b[38;5;241m=\u001b[39mparasitic_load_strat,\n\u001b[1;32m      9\u001b[0m )\n\u001b[0;32m---> 10\u001b[0m \u001b[43mHCPB_bop\u001b[49m\u001b[38;5;241;43m.\u001b[39;49m\u001b[43mbuild\u001b[49m\u001b[43m(\u001b[49m\u001b[43m)\u001b[49m\n",
            "File \u001b[0;32m~/code/bluemira/bluemira/balance_of_plant/steady_state.py:453\u001b[0m, in \u001b[0;36mBalanceOfPlant.build\u001b[0;34m(self)\u001b[0m\n\u001b[1;32m    451\u001b[0m p_separatrix \u001b[38;5;241m=\u001b[39m p_charged \u001b[38;5;241m-\u001b[39m p_radiation \u001b[38;5;241m+\u001b[39m p_hcd\n\u001b[1;32m    452\u001b[0m p_n_blk, p_n_div, p_n_vv, p_n_aux, p_nrgm \u001b[38;5;241m=\u001b[39m \u001b[38;5;28mself\u001b[39m\u001b[38;5;241m.\u001b[39mneutron_strat\u001b[38;5;241m.\u001b[39msplit(p_neutron)\n\u001b[0;32m--> 453\u001b[0m p_rad_sep_blk, p_rad_sep_div, p_rad_sep_aux \u001b[38;5;241m=\u001b[39m \u001b[38;5;28;43mself\u001b[39;49m\u001b[38;5;241;43m.\u001b[39;49m\u001b[43mrad_sep_strat\u001b[49m\u001b[38;5;241;43m.\u001b[39;49m\u001b[43msplit\u001b[49m\u001b[43m(\u001b[49m\n\u001b[1;32m    454\u001b[0m \u001b[43m    \u001b[49m\u001b[43mp_radiation\u001b[49m\u001b[43m,\u001b[49m\u001b[43m \u001b[49m\u001b[43mp_separatrix\u001b[49m\n\u001b[1;32m    455\u001b[0m \u001b[43m\u001b[49m\u001b[43m)\u001b[49m\n\u001b[1;32m    456\u001b[0m p_rad_sep_fw \u001b[38;5;241m=\u001b[39m p_rad_sep_blk \u001b[38;5;241m+\u001b[39m p_rad_sep_aux\n\u001b[1;32m    458\u001b[0m p_blk_decay \u001b[38;5;241m=\u001b[39m \u001b[38;5;28mself\u001b[39m\u001b[38;5;241m.\u001b[39mparams\u001b[38;5;241m.\u001b[39mP_bb_decay\u001b[38;5;241m.\u001b[39mvalue\n",
            "File \u001b[0;32m~/code/bluemira/bluemira/balance_of_plant/steady_state.py:346\u001b[0m, in \u001b[0;36mRadChargedPowerStrategy.split\u001b[0;34m(self, p_radiation, p_separatrix)\u001b[0m\n\u001b[1;32m    344\u001b[0m \u001b[38;5;66;03m# Split first wall into blanket and auxiliary\u001b[39;00m\n\u001b[1;32m    345\u001b[0m p_rad_sep_fw \u001b[38;5;241m=\u001b[39m p_core_rad_fw \u001b[38;5;241m+\u001b[39m p_sol_rad_fw \u001b[38;5;241m+\u001b[39m p_sol_charged_fw\n\u001b[0;32m--> 346\u001b[0m p_rad_sep_blk \u001b[38;5;241m=\u001b[39m p_rad_sep_fw \u001b[38;5;241m*\u001b[39m (\u001b[38;5;241m1\u001b[39m \u001b[38;5;241m-\u001b[39m \u001b[38;5;28;43mself\u001b[39;49m\u001b[38;5;241;43m.\u001b[39;49m\u001b[43mf_fw_blk\u001b[49m)\n\u001b[1;32m    347\u001b[0m p_rad_sep_aux \u001b[38;5;241m=\u001b[39m p_rad_sep_fw \u001b[38;5;241m-\u001b[39m p_rad_sep_blk\n\u001b[1;32m    348\u001b[0m p_rad_sep_div \u001b[38;5;241m=\u001b[39m p_core_rad_div \u001b[38;5;241m+\u001b[39m p_sol_rad_div \u001b[38;5;241m+\u001b[39m p_sol_charged_div\n",
            "\u001b[0;31mAttributeError\u001b[0m: 'RadChargedPowerStrategy' object has no attribute 'f_fw_blk'"
          ]
        }
      ],
      "source": [
        "HCPB_bop = BalanceOfPlant(\n",
        "    default_params,\n",
        "    rad_sep_strat=rad_sep_strat,\n",
        "    neutron_strat=neutron_power_strat,\n",
        "    blanket_pump_strat=blanket_pump_strat,\n",
        "    divertor_pump_strat=divertor_pump_strat,\n",
        "    bop_cycle_strat=bop_cycle,\n",
        "    parasitic_load_strat=parasitic_load_strat,\n",
        ")\n",
        "HCPB_bop.build()"
      ]
    },
    {
      "cell_type": "markdown",
      "metadata": {},
      "source": [
        "\n",
        "And we can take a look..."
      ]
    },
    {
      "cell_type": "code",
      "execution_count": null,
      "metadata": {},
      "outputs": [],
      "source": [
        "HCPB_bop.plot(title=\"HCPB blanket\")"
      ]
    },
    {
      "cell_type": "markdown",
      "metadata": {},
      "source": [
        "\n",
        "What about if we had a different blanket concept? The coolant is different, which means\n",
        "the pumping loads will differ, and the power cycle will also be different. It's likely\n",
        "that the energy multiplication is different too"
      ]
    },
    {
      "cell_type": "code",
      "execution_count": null,
      "metadata": {},
      "outputs": [],
      "source": [
        "neutron_power_strat = NeutronPowerStrategy(\n",
        "    f_blanket=0.9,\n",
        "    f_divertor=0.05,\n",
        "    f_vessel=0.04,\n",
        "    f_other=0.01,\n",
        "    energy_multiplication=1.25,\n",
        ")\n",
        "blanket_pump_strat = H2OPumping(0.005, eta_isentropic=0.99, eta_electric=0.87)\n",
        "bop_cycle = PredeterminedEfficiency(0.33)\n",
        "\n",
        "WCLL_bop = BalanceOfPlant(\n",
        "    default_params,\n",
        "    rad_sep_strat=rad_sep_strat,\n",
        "    neutron_strat=neutron_power_strat,\n",
        "    blanket_pump_strat=blanket_pump_strat,\n",
        "    divertor_pump_strat=divertor_pump_strat,\n",
        "    bop_cycle_strat=bop_cycle,\n",
        "    parasitic_load_strat=parasitic_load_strat,\n",
        ")\n",
        "WCLL_bop.build()\n",
        "WCLL_bop.plot(title=\"WCLL blanket\")"
      ]
    }
  ],
  "metadata": {
    "anaconda-cloud": {},
    "kernelspec": {
      "display_name": "Python 3",
      "language": "python",
      "name": "python3"
    },
    "language_info": {
      "codemirror_mode": {
        "name": "ipython",
        "version": 3
      },
      "file_extension": ".py",
      "mimetype": "text/x-python",
      "name": "python",
      "nbconvert_exporter": "python",
      "pygments_lexer": "ipython3",
      "version": "3.8.12"
    }
  },
  "nbformat": 4,
  "nbformat_minor": 4
}
